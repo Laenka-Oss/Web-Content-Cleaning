{
 "cells": [
  {
   "cell_type": "code",
   "execution_count": 32,
   "metadata": {
    "collapsed": true
   },
   "outputs": [],
   "source": [
    "# \n",
    "import urllib.request\n",
    "import string\n",
    "from bs4 import BeautifulSoup\n",
    "import re\n",
    "import pandas as pd\n",
    "import numpy as np\n",
    "from urllib.parse import urlparse"
   ]
  },
  {
   "cell_type": "code",
   "execution_count": 33,
   "metadata": {
    "collapsed": true
   },
   "outputs": [
    {
     "name": "stdout",
     "output_type": "stream",
     "text": [
      "The rethrived code is: 200\n",
      "b'<!DOCTYPE html>\\n<!--[if IEMobile 7]><html class=\"iem7 no-js\" lang=\"en\" dir=\"ltr\"><![endif]-->\\n<!--[if lt IE 7]><html class=\"lt-ie9 lt-ie8 lt-ie7 no-js\" lang=\"en\" dir=\"ltr\"><![endif]-->\\n<!--[if (IE 7)&(!IEMobile)]><html class=\"lt-ie9 lt-ie8 no-js\" lang=\"en\" dir=\"ltr\"><![endif]-->\\n<!--[if IE 8]><html class=\"lt-ie9 no-js\" lang=\"en\" dir=\"ltr\"><![endif]-->\\n<!--[if (gt IE 8)|(gt IEMobile 7)]><!--> <html class=\"no-js not-oldie\" lang=\"en\" dir=\"ltr\"> <!--<![endif]-->\\n<head>\\n  <meta charset=\"utf-8\" />\\n<meta name=\"HandheldFriendly\" content=\"true\" />\\n<meta name=\"MobileOptimized\" content=\"width\" />\\n<meta name=\"viewport\" content=\"width=device-width\" />\\n<meta name=\"generator\" content=\"Drupal 7 (http://drupal.org)\" />\\n<link rel=\"shortcut icon\" href=\"https://www.epa.gov/sites/all/themes/epa/favicon.ico\" type=\"image/vnd.microsoft.icon\" />\\n<!--googleon: all--><meta name=\"DC.description\" content=\"This website provides access to several EPA databases to provide information about environmental activities that may affect air, water, and land anywhere in the United States.\" />\\n<meta name=\"DC.title\" content=\"Other Service-Enabled Data\" />\\n<!--googleoff: snippet--><meta name=\"keywords\" content=\"EPA, envirofacts, EnviroMapper, MyEnvironment, ejview, waste, Water, toxics, Air, land, radiation, compliance, maps, map, AIRS/AFS, Aerometric Information Retrieval System, AIRS Facility Subsystem, BR, Biennial report, Brownfields, Brownfields-Cleanups, Brownfields/Cleanups, ACRES, Assessment Cleanup and Redevelopment Exchange System, superfund, CERCLIS, cleanups, Cleanups in My Community, CIMC, ECHO/IDEA, Enforcement &amp; Compliance History Online, enforcement and compliance history online, FRS, Facility Registry System, GICS, Grants Information and Control System, icr, Information Collection Rule, Location Information, Locational Information, LRT Viewer, Locational Reference Tables Viewer, NCOD, National Contaminant Occurrence Database, PCS, Permit Compliance System, RADINFO, Radiation Information Database, RadNet, RCRAInfo, Resource Conservation and Recovery Act Information, SDWIS, Safe Drinking Water Information System, SRS, Substance Registry Services, TRI, Toxics Release Inventory, UV Index, envi\" />\\n<link rel=\"canonical\" href=\"https://www.epa.gov/enviro/other-service-enabled-data\" />\\n<link rel=\"shortlink\" href=\"https://www.epa.gov/node/111331\" />\\n<meta property=\"og:site_name\" content=\"US EPA\" />\\n<meta property=\"og:type\" content=\"government\" />\\n<meta property=\"og:title\" content=\"Other Service-Enabled Data | US EPA\" />\\n<meta property=\"og:url\" content=\"https://www.epa.gov/enviro/other-service-enabled-data\" />\\n<meta property=\"og:description\" content=\"This website provides access to several EPA databases to provide information about environmental activities that may affect air, water, and land anywhere in the United States.\" />\\n<meta property=\"og:updated_time\" content=\"2018-10-25T17:39:01-04:00\" />\\n<meta property=\"og:image\" content=\"https://www.epa.gov/sites/all/themes/epa/img/epa-seal-large.png\" />\\n<meta property=\"og:country_name\" content=\"United States of America\" />\\n<meta property=\"article:published_time\" content=\"2015-09-03T16:18:28-04:00\" />\\n<meta property=\"article:modified_time\" content=\"2018-10-25T17:39:43-04:00\" />\\n<meta name=\"DC.language\" content=\"en\" />\\n<meta name=\"DC.Subject.epachannel\" content=\"Laws &amp; Regulations, Learn the Issues\" />\\n<meta name=\"DC.type\" content=\"Data and Tools\" />\\n<meta name=\"DC.date.created\" content=\"2015-09-03\" />\\n<meta name=\"DC.date.modified\" content=\"2018-10-25\" />\\n<meta name=\"DC.date.reviewed\" content=\"2019-10-25\" />\\n<meta name=\"DC.creator\" content=\"US EPA,OEI,OIAA\" />\\n<meta name=\"WebArea\" content=\"Envirofacts\" />\\n<meta name=\"WebAreaType\" content=\"Resource Directory\" />\\n<meta name=\"ContentType\" content=\"Basic page\" />\\n  <title>Other Service-Enabled Data | Envirofacts | US EPA</title>\\n  <!--googleoff: all-->\\n  <style media=\"all\">\\n@import url(\"https://www.epa.gov/sites/all/modules/contrib/jquery_update/replace/ui/themes/base/minified/jquery.ui.core.min.css?pjmqq7\");\\n@import url(\"https://www.epa.gov/sites/all/modules/contrib/jquery_update/replace/ui/themes/base/minified/jquery.ui.menu.min.css?pjmqq7\");\\n@import url(\"https://www.epa.gov/sites/all/modules/contrib/jquery_update/replace/ui/themes/base/minified/jquery.ui.autocomplete.min.css?pjmqq7\");\\n</style>\\n<style media=\"all\">\\n@import url(\"https://www.epa.gov/sites/all/modules/contrib/date/date_api/date.css?pjmqq7\");\\n@import url(\"https://www.epa.gov/sites/all/modules/contrib/picture/picture_wysiwyg.css?pjmqq7\");\\n</style>\\n<style media=\"all\">\\n@import url(\"https://www.epa.gov/sites/all/modules/custom/add_definitions/add_definitions.min.css?pjmqq7\");\\n</style>\\n<style media=\"all\">\\n@import url(\"https://www.epa.gov/sites/all/themes/epa/css/base.min.css?pjmqq7\");\\n@import url(\"https://www.epa.gov/sites/all/themes/epa/css/typography.min.css?pjmqq7\");\\n@import url(\"https://www.epa.gov/sites/all/themes/epa/css/drupal.min.css?pjmqq7\");\\n@import url(\"https://www.epa.gov/sites/all/themes/epa/css/layout.min.css?pjmqq7\");\\n@import url(\"https://www.epa.gov/sites/all/themes/epa/css/core/contextual.min.css?pjmqq7\");\\n@import url(\"https://www.epa.gov/sites/all/themes/epa/css/contrib/date.min.css?pjmqq7\");\\n@import url(\"https://www.epa.gov/sites/all/themes/epa/css/design.min.css?pjmqq7\");\\n@import url(\"https://www.epa.gov/sites/all/themes/epa/css/mobile-menu.min.css?pjmqq7\");\\n@import url(\"https://www.epa.gov/sites/all/themes/epa/css/drop-down-menu.min.css?pjmqq7\");\\n@import url(\"https://www.epa.gov/sites/all/themes/epa/css/flexslider.min.css?pjmqq7\");\\n@import url(\"https://www.epa.gov/sites/all/themes/epa/css/lib/colorbox.min.css?pjmqq7\");\\n</style>\\n\\n<!--[if lt IE 9]>\\n<style media=\"all\">\\n@import url(\"https://www.epa.gov/sites/all/themes/epa/css/ie.min.css?pjmqq7\");\\n</style>\\n<![endif]-->\\n<style media=\"all\">\\n@import url(\"https://www.epa.gov/sites/all/themes/epa/css/lib/jquery.ui.theme.min.css?pjmqq7\");\\n</style>\\n  <link rel=\"alternate\" type=\"application/atom+xml\" title=\"EPA.gov All Press Releases\" href=\"https://www.epa.gov/newsreleases/search/rss\" />\\n  <link rel=\"alternate\" type=\"application/atom+xml\" title=\"EPA.gov Headquarters Press Releases\" href=\"https://www.epa.gov/newsreleases/search/rss/field_press_office/headquarters\" />\\n  <link rel=\"alternate\" type=\"application/atom+xml\" title=\"Greenversations, EPA\\'s Blog\" href=\"https://blog.epa.gov/blog/feed/\" />\\n  <link rel=\"alternate\" type=\"application/atom+xml\" title=\"Envirofacts\" href=\"/feed/96069/rss.xml\" />  <!--[if lt IE 9]><script src=\"/sites/all/themes/epa/js/html5.min.js\"></script><![endif]-->    <!-- Google Tag Manager -->\\n  <script>(function(w,d,s,l,i){w[l]=w[l]||[];w[l].push({\\'gtm.start\\':\\n      new Date().getTime(),event:\\'gtm.js\\'});var f=d.getElementsByTagName(s)[0],\\n      j=d.createElement(s),dl=l!=\\'dataLayer\\'?\\'&l=\\'+l:\\'\\';j.async=true;j.src=\\n      \\'https://www.googletagmanager.com/gtm.js?id=\\'+i+dl;f.parentNode.insertBefore(j,f);\\n    })(window,document,\\'script\\',\\'dataLayer\\',\\'GTM-L8ZB\\');</script>\\n  <!-- End Google Tag Manager -->\\n</head>\\n<body class=\"html not-front not-logged-in no-sidebars page-node page-node-111331 node-type-page og-context og-context-node og-context-node-96069 section-enviro resource-directory\" >\\n  <!-- Google Tag Manager (noscript) -->\\n  <noscript><iframe src=\"https://www.googletagmanager.com/ns.html?id=GTM-L8ZB\" height=\"0\" width=\"0\" style=\"display:none;visibility:hidden\"></iframe></noscript>\\n  <!-- End Google Tag Manager (noscript) -->\\n  <div class=\"skip-links\"><a href=\"#main-content\" class=\"skip-link element-invisible element-focusable\">Jump to main content</a></div>\\n      \\n  \\n    <div id=\"block-pane-official-website-header\" class=\"block block-pane  block-pane-official-website-header sitewide-alert sitewide-alert--official\">\\n  \\n  \\n  \\n  \\n  <div class=\"sitewide-alert__content\">  <p>An official website of the United States government.</p>\\n  </div>\\n</div>\\n\\n<div class=\"sitewide-alert sitewide-alert--information element-hidden\" data-alert=\"66b40d0321f8af5a6a0620d32c73ab359c95c3ff584d7dcd7871733ab74e3729\"><div class=\"sitewide-alert__content\"><p>We\\'ve made some changes to <a href=\"/\">EPA.gov</a>. If the information you are looking for is not here, you may be able to find it on the <a href=\"https://archive.epa.gov/\">EPA Web Archive</a> or the <a href=\"https://19january2017snapshot.epa.gov/\">January 19, 2017 Web Snapshot</a>.</p>\\n</div></div>  \\n\\n\\n<header class=\"masthead clearfix\" role=\"banner\">\\n\\n      <img class=\"site-logo\" src=\"https://www.epa.gov/sites/all/themes/epa/logo.png\" alt=\"\" />\\n  \\n  \\n  <div class=\"site-name-and-slogan\">\\n      <h1 class=\"site-name\">\\n\\n      \\n      <a href=\"/\" title=\"Go to the home page\" rel=\"home\">      <span>US EPA</span>\\n      </a>\\n    </h1>\\n  \\n      <div class=\"site-slogan\">United States Environmental Protection Agency</div>\\n  \\n  </div>\\n  \\n  \\n  <div class=\"region-header\">  <div id=\"block-epa-core-gsa-epa-search\" class=\"block block-epa-core  block-epa-core-gsa-epa-search\">\\n  \\n  \\n  \\n  \\n    <form class=\"epa-search\" method=\"get\" action=\"https://search.epa.gov/epasearch/epasearch\">\\n  <label class=\"element-hidden\" for=\"search-box\">Search</label>\\n  <input class=\"form-text\" placeholder=\"Search EPA.gov\" name=\"querytext\" id=\"search-box\" value=\"\"/>\\n  <button class=\"epa-search-button\" id=\"search-button\" type=\"submit\" title=\"Search\">Search</button>\\n  <input type=\"hidden\" name=\"areaname\" value=\"\" />\\n  <input type=\"hidden\" name=\"areacontacts\" value=\"\" />\\n  <input type=\"hidden\" name=\"areasearchurl\" value=\"\" />\\n  <input type=\"hidden\" name=\"typeofsearch\" value=\"epa\" />\\n  <input type=\"hidden\" name=\"result_template\" value=\"2col.ftl\" />\\n  </form>  \\n</div>\\n  </div>\\n</header>\\n\\n  <nav class=\"nav main-nav clearfix\" role=\"navigation\">\\n    <div class=\"nav__inner\">\\n      <h2 class=\"element-invisible\">Main menu</h2><ul class=\"menu\"><li class=\"expanded menu-item\"><a href=\"/environmental-topics\" title=\"View links to the most popular pages for each of EPA\\xe2\\x80\\x99s top environmental topics.\" class=\"menu-link\">Environmental Topics</a><ul class=\"menu\"><li class=\"menu-item\"><a href=\"/environmental-topics/air-topics\" title=\"\" class=\"menu-link\">Air</a></li>\\n<li class=\"menu-item\"><a href=\"/bedbugs\" title=\"\" class=\"menu-link\">Bed Bugs</a></li>\\n<li class=\"menu-item\"><a href=\"/environmental-topics/chemicals-and-toxics-topics\" title=\"\" class=\"menu-link\">Chemicals and Toxics</a></li>\\n<li class=\"menu-item\"><a href=\"/environmental-topics/environmental-information-location\" title=\"\" class=\"menu-link\">Environmental Information by Location</a></li>\\n<li class=\"menu-item\"><a href=\"/environmental-topics/greener-living\" title=\"\" class=\"menu-link\">Greener Living</a></li>\\n<li class=\"menu-item\"><a href=\"/environmental-topics/health-topics\" title=\"\" class=\"menu-link\">Health</a></li>\\n<li class=\"menu-item\"><a href=\"/environmental-topics/land-waste-and-cleanup-topics\" title=\"\" class=\"menu-link\">Land, Waste, and Cleanup</a></li>\\n<li class=\"menu-item\"><a href=\"/lead\" title=\"\" class=\"menu-link\">Lead</a></li>\\n<li class=\"menu-item\"><a href=\"/mold\" title=\"\" class=\"menu-link\">Mold</a></li>\\n<li class=\"menu-item\"><a href=\"/pesticides\" title=\"\" class=\"menu-link\">Pesticides</a></li>\\n<li class=\"menu-item\"><a href=\"/radon\" title=\"\" class=\"menu-link\">Radon</a></li>\\n<li class=\"menu-item\"><a href=\"/environmental-topics/science-topics\" title=\"\" class=\"menu-link\">Science</a></li>\\n<li class=\"menu-item\"><a href=\"/environmental-topics/water-topics\" title=\"\" class=\"menu-link\">Water</a></li>\\n<li class=\"menu-item\"><a href=\"/environmental-topics/z-index\" title=\"\" class=\"menu-link\">A-Z Index</a></li>\\n</ul></li>\\n<li class=\"menu-item\"><a href=\"/laws-regulations\" title=\"View links to regulatory information by topic and sector, and to top pages about environmental laws, regulations, policies, compliance, and enforcement.\" class=\"menu-link\">Laws &amp; Regulations</a><ul class=\"menu\"><li class=\"menu-item\"><a href=\"/regulatory-information-sector\" title=\"\" class=\"menu-link\">By Business Sector</a></li>\\n<li class=\"menu-item\"><a href=\"/regulatory-information-topic\" title=\"\" class=\"menu-link\">By Topic</a></li>\\n<li class=\"menu-item\"><a href=\"/compliance\" title=\"\" class=\"menu-link\">Compliance</a></li>\\n<li class=\"menu-item\"><a href=\"/enforcement\" title=\"\" class=\"menu-link\">Enforcement</a></li>\\n<li class=\"menu-item\"><a href=\"/laws-regulations/laws-and-executive-orders\" title=\"\" class=\"menu-link\">Laws and Executive Orders</a></li>\\n<li class=\"menu-item\"><a href=\"/laws-regulations/policy-guidance\" title=\"\" class=\"menu-link\">Policy and Guidance</a></li>\\n<li class=\"menu-item\"><a href=\"/laws-regulations/regulations\" title=\"\" class=\"menu-link\">Regulations</a></li>\\n</ul></li>\\n<li class=\"expanded menu-item\"><a href=\"/aboutepa\" title=\"Learn more about our mission, organization, and locations.\" class=\"menu-link\">About EPA</a><ul class=\"menu\"><li class=\"menu-item\"><a href=\"/aboutepa/epas-acting-administrator\" title=\"\" class=\"menu-node-unpublished menu-link\">EPA Administrator</a></li>\\n<li class=\"menu-item\"><a href=\"/aboutepa/current-epa-leadership\" title=\"\" class=\"menu-link\">Current Leadership</a></li>\\n<li class=\"menu-item\"><a href=\"/aboutepa/epa-organization-chart\" title=\"\" class=\"menu-link\">Organization Chart</a></li>\\n<li class=\"menu-item\"><a href=\"http://cfpub.epa.gov/locator/index.cfm\" title=\"\" class=\"menu-link\">Staff Directory</a></li>\\n<li class=\"menu-item\"><a href=\"/planandbudget\" title=\"\" class=\"menu-link\">Planning, Budget and Results</a></li>\\n<li class=\"menu-item\"><a href=\"/careers\" title=\"\" class=\"menu-link\">Jobs and Internships</a></li>\\n<li class=\"menu-item\"><a href=\"/aboutepa#pane-2\" title=\"\" class=\"menu-link\">Headquarters Offices</a></li>\\n<li class=\"menu-item\"><a href=\"/aboutepa#pane-4\" title=\"\" class=\"menu-link\">Regional Offices</a></li>\\n<li class=\"menu-item\"><a href=\"/aboutepa#pane-5\" title=\"\" class=\"menu-link\">Labs and Research Centers</a></li>\\n</ul></li>\\n</ul>    </div>\\n  </nav>\\n\\n<section id=\"main-content\" class=\"main-content clearfix\" role=\"main\" lang=\"en\">\\n    \\n  \\n  <div class=\"region-preface clearfix\">  <div id=\"block-views-revision-hublinks-block\" class=\"block block-views  block-views-revision-hublinks-block\">\\n\\n  \\n  \\n    <div class=\"view view-revision-hublinks view-id-revision_hublinks view-display-id-block view-dom-id-44ac9c949d4166287408a0fe2334a8dd\">        <span class=\"related-info\"><strong>Related Topics:</strong> </span>      \\n\\n<ul class=\"menu pipeline\">\\n  <li class=\"menu-item\">  \\n          <a href=\"/enviro\">Envirofacts</a>  </li>\\n\\n</ul>          </div>  \\n</div>\\n<div id=\"block-pane-epa-web-area-connect\" class=\"block block-pane  block-pane-epa-web-area-connect\">\\n\\n  \\n  \\n    <span class=\"connect-title\"><a href=\"/enviro/forms/contact-us-about-envirofacts\" class=\"connect-title__link\">Contact Us</a></span>  \\n</div>\\n<div id=\"block-pane-social-sharing\" class=\"block block-pane  block-pane-social-sharing\">\\n\\n  \\n  \\n    <span class=\"connect-title\">Share</span>\\n<ul class=\"share-links\">\\n  <li class=\"share-links__item facebook\">\\n    <a class=\"share-links__link\" href=\"https://www.facebook.com/sharer.php?u=https://www.epa.gov/enviro/other-service-enabled-data&t=Other%20Service-Enabled%20Data\" aria-label=\"Facebook\" target=\"_blank\" rel=\"noopener noreferrer\" title=\"Share this page on Facebook\">\\n      <svg class=\"icon icon--social-link\" aria-hidden=\"true\">\\n        <use xlink:href=\"/sites/all/themes/epa/img/svg/small-icons.svg#small-facebook\" />\\n      </svg>\\n    </a>\\n  </li>\\n  <li class=\"share-links__item twitter\">\\n    <a class=\"share-links__link\" href=\"https://twitter.com/intent/tweet?original_referer=https://www.epa.gov/enviro/other-service-enabled-data&text=Other%20Service-Enabled%20Data&url=https://www.epa.gov/enviro/other-service-enabled-data&via=EPA&count=none&lang=en\" aria-label=\"Twitter\" target=\"_blank\" rel=\"noopener noreferrer\" title=\"Tweet this page\">\\n      <svg class=\"icon icon--social-link\" aria-hidden=\"true\">\\n        <use xlink:href=\"/sites/all/themes/epa/img/svg/small-icons.svg#small-twitter\" />\\n      </svg>\\n    </a>\\n  </li>\\n  <li class=\"share-links__item pinterest\">\\n    <a class=\"share-links__link\" href=\"https://pinterest.com/pin/create/button/?url=https://www.epa.gov/enviro/other-service-enabled-data&description=Other%20Service-Enabled%20Data&media=https://www.epa.gov/sites/all/themes/epa/img/epa-seal.png\" aria-label=\"Pinterest\" target=\"_blank\" rel=\"noopener noreferrer\" title=\"Pin this page\">\\n      <svg class=\"icon icon--social-link\" aria-hidden=\"true\">\\n        <use xlink:href=\"/sites/all/themes/epa/img/svg/small-icons.svg#small-pinterest\" />\\n      </svg>\\n    </a>\\n  </li>\\n  <li class=\"share-links__item email\">\\n    <a class=\"share-links__link\" href=\"mailto:%20?subject=Shared%20from%20the%20US%20EPA:%20Other%20Service-Enabled%20Data&body=Other%20Service-Enabled%20Data%20-%20https://www.epa.gov/enviro/other-service-enabled-data\" aria-label=\"Email this page\">\\n      <svg class=\"icon icon--social-link\" aria-hidden=\"true\">\\n        <use xlink:href=\"/sites/all/themes/epa/img/svg/small-icons.svg#small-email\" />\\n      </svg>\\n    </a>\\n  </li>\\n</ul>  \\n</div>\\n  </div>\\n    <div class=\"main-column clearfix\">\\n            \\n          <!--googleon: all-->\\n      <h1  class=\"page-title\">Other Service-Enabled Data</h1>\\n      <!--googleoff: all-->\\n    \\n            \\n    \\n    <!--googleon: all-->\\n    \\n  \\n    \\n\\n\\n<div class=\"row cols-2\">\\n<div class=\"col size-3of4\">\\n<div class=\"panel-pane pane-node-content\" >\\n\\n  \\n  \\n  \\n  \\n  \\n  <div class=\"pane-content\">\\n    <div class=\"node node-page clearfix view-mode-full \">\\n\\n  \\n  <ul class=\"tabs\"><li><a href=\"https://www3.epa.gov/enviro\">Home</a></li>\\n\\t<li><a title=\"Multisystem Search\" href=\"https://www3.epa.gov/enviro/facts/multisystem.html\">Multisystem Search</a></li>\\n\\t<li><a href=\"/enviro/topic-searches\">Topic Searches</a></li>\\n\\t<li><a href=\"/enviro/system-data-searches\">System Data Searches</a></li>\\n\\t<li><a title=\"About the Data\" href=\"/enviro/about-data\">About the Data</a></li>\\n\\t<li><a href=\"/enviro/data-downloads\">Data Downloads</a></li>\\n\\t<li><a href=\"/enviro/widgets\">Widgets</a></li>\\n\\t<li><a href=\"/enviro/web-services\">Services</a></li>\\n\\t<li><a href=\"/enviro/uv-index-mobile-app\">Mobile</a></li>\\n\\t<li class=\"active\"><a href=\"/enviro/other-service-enabled-data\">Other Datasets</a></li>\\n</ul><p><span>Envirofacts contains a variety of environmental information from EPA System databases, as well as other EPA data sources. All of these data are important and critical in decision-making, however some of the data sources may not be easily accessible, and for this reason, these data are grouped on this page for easy access through the\\xc2\\xa0</span><a href=\"/enviro/web-services\">Envirofacts RESTful API</a><span>. Below you will find a listing of program data available for download or incorporation into a mashup. Visit the\\xc2\\xa0</span><a href=\"/enviro/web-services\">Envirofacts RESTful API</a><span>\\xc2\\xa0page for additional information on how to utilize the functionality available within the API.</span></p>\\n\\n<div class=\"row cols-2\">\\n\\t<div class=\"col size-1of2\">\\n\\t\\t<div class=\"box simple\">\\n\\t\\t\\t<div class=\"pane-content\">\\n\\t\\t\\t\\t<p><a class=\"colorbox-inline\" href=\"#myRTK\"><img alt=\"myRTK image\" src=\"/sites/production/files/styles/large/public/2015-09/myrtk_header.png\" /></a><br /><a class=\"colorbox-inline\" href=\"#myRTK\">myRight-to-Know (MyRTK)</a></p>\\n\\n\\t\\t\\t\\t<p>myRTK is an EPA website designed for mobile devices. For any address, the map displays nearby facilities regulated under federal environmental laws. Facility reports provide summaries of chemical/pollutant releases, chemical effects, and compliance history from numerous data systems.</p>\\n\\n\\t\\t\\t\\t<p><a class=\"colorbox-inline\" href=\"#myRTK\">View More...</a></p>\\n\\t\\t\\t</div>\\n\\t\\t</div>\\n\\n\\t\\t<div class=\"box simple\">\\n\\t\\t\\t<div class=\"pane-content\">\\n\\t\\t\\t\\t<p><a class=\"colorbox-inline\" href=\"#echo\"><img alt=\"ECHO image\" src=\"/sites/production/files/styles/large/public/2014-03/echo-logo-small.png\" /></a><br /><a class=\"colorbox-inline\" href=\"#echo\">ECHO</a></p>\\n\\n\\t\\t\\t\\t<p>ECHO focuses on facility compliance and EPA/state enforcement of environmental regulations. ECHO provides integrated compliance and enforcement information for approximately 800,000 regulated facilities nationwide. The site allows users to find inspection, violation, enforcement action, informal enforcement action, and penalty information about facilities for the past three years. Facilities regulated under the following environmental statutes are included: Clean Air Act (CAA) Stationary Source Program, Clean Water Act (CWA) National Pollutant Elimination Discharge System (NPDES), Resource Conservation and Recovery Act (RCRA), and Safe Drinking Water Act (SDWA). The information shown in ECHO accesses an integrated database called IDEA, which stands for Integrated Data for Enforcement Analysis. Some users prefer to use the raw IDEA data rather than using the ECHO web interface. The ECHO Exporter and IDEA data downloads provide a full set of information nationally, whereas ECHO has limitations on how much data can be shown at one time.</p>\\n\\n\\t\\t\\t\\t<p><a class=\"colorbox-inline\" href=\"#echo\">View More...</a></p>\\n\\t\\t\\t</div>\\n\\t\\t</div>\\n\\n\\t\\t<div class=\"box simple\">\\n\\t\\t\\t<div class=\"pane-content\">\\n\\t\\t\\t\\t\\n\\n\\t\\t\\t\\t<p><a class=\"colorbox-inline\" href=\"#icis\"><img alt=\"ICIS image\" src=\"/sites/production/files/styles/large/public/2015-08/pcs_icis_image.gif\" /></a></p>\\n\\n\\t\\t\\t\\t<p><a class=\"colorbox-inline\" href=\"#icis\">REST API Service for Integrated Compliance Information System (ICIS)</a></p>\\n\\n\\t\\t\\t\\t<p>Concentrated Animal Feeding Operations (CAFOs) are agricultural operations where animals are kept and raised in confined situations. Manure and wastewater from CAFOs have the potential to contribute pollutants such as nitrogen and phosphorus, organic matter, sediment, pathogens, heavy metals, hormones, antibiotics, and ammonia to the environment. Animal waste can enter water bodies from spills or breaks of waste storage structures, due to accidents or excessive rain, and non-agricultural application of manure to crop land. The NPDES program regulates the discharge of pollutants from CAFOs to waters of the United States.</p>\\n\\n\\t\\t\\t\\t\\n\\n\\t\\t\\t\\t<p><a class=\"colorbox-inline\" href=\"#icis\">View More...</a></p>\\n\\t\\t\\t</div>\\n\\t\\t</div>\\n\\t</div>\\n\\n\\t<div class=\"col size-1of2\">\\n\\t\\t<div class=\"box simple\">\\n\\t\\t\\t<div class=\"pane-content\">\\n\\t\\t\\t\\t<p><a class=\"colorbox-inline\" href=\"#saferchoice\"><span\\n    class=\"figure image file file-image file-image-jpeg view-mode-teaser\" style=\"width:160px;\"><img alt=\"Safer Choice\" title=\"Safer Choice\" height=\"160\" width=\"160\" class=\"media-element file-teaser\" src=\"/sites/production/files/styles/small/public/2015-03/saferchoice-400.jpg\" /></span>Safer Choice</a></p>\\n\\n\\t\\t\\t\\t<p>Products that qualify for the Safer Choice label contain ingredients that are safer for workers, families, pets, and the environment -- EPA scientists review every ingredient for potential health and environmental concerns. Safer Choice-labeled products must also meet performance, packaging, and ingredient disclosure requirements.</p>\\n\\t\\t\\t\\t<a class=\"colorbox-inline\" href=\"#saferchoice\">View More...</a></div>\\n\\t\\t</div>\\n\\n\\t\\t<div class=\"box simple\">\\n\\t\\t\\t<div class=\"pane-content\"><a class=\"colorbox-inline\" href=\"#sdwis\"><span\\n    class=\"figure image file file-image file-image-gif view-mode-full\" style=\"width:75px;\"><img alt=\"SDWIS icon\" title=\"SDWIS icon\" height=\"75\" width=\"75\" class=\"media-element file-full\" src=\"/sites/production/files/styles/large/public/2015-08/sdwisimage.gif\" /></span>REST API Service for Safe Drinking Water Information System (SDWIS)</a>\\n\\n\\t\\t\\t\\t<p>National Primary Drinking Water Regulations (NPDWRs), or primary standards, are legally enforceable standards that apply to public water systems. Primary standards protect public health by limiting the levels of certain contaminants in drinking water. EPA sets a Maximum Contamination Limit (MCL) for every regulated contaminant. When public water systems are found to contain contaminants in amounts exceeding the MCL, they are in violation and must take action to restore the quality of their water. For more information about EPA regulated drinking water contaminants visit https://water.epa.gov/drink/contaminants/#List\\xc2\\xa0<a class=\"colorbox-inline\" href=\"#sdwis\">View More...</a></p>\\n\\t\\t\\t</div>\\n\\t\\t</div>\\n\\t</div>\\n</div>\\n\\n<div id=\"hidden-content\" role=\"dialog\" aria-labelledby=\"dialog-title\">\\n\\t<div class=\"colorbox-hidden\" id=\"myRTK\">\\n\\t\\t<h3 id=\"dialog-title\">MyRTK</h3>\\n\\n\\t\\t<h2><img alt=\"MyRTK logo\" src=\"/sites/production/files/styles/large/public/2015-09/myrtk_header.png\" /></h2>\\n\\n\\t\\t<p>myRight-to-Know(myRTK) is an EPA website, available at <a href=\"/toxics-release-inventory-tri-program/my-right-know-application\">https://www2.epa.gov/toxics-release-inventory-tri-program/my-right-know-application</a>, designed for mobile devices. For any address, the map displays nearby facilities regulated under federal environmental laws. Facility reports provide summaries of chemical/pollutant releases, chemical effects, and compliance history from numerous data systems.<br /><br />\\n\\t\\t\\tThis data service provides for retrieval of chemical and health effect data stored within the myRTK database. Within the data users will find a compiled list of TRI Chemicals, along with an assessment indicating if the chemical might cause cancer and if the chemical has any of the 17 other health effects. This version of myRTK is limited to human health effects.<br /><br />\\n\\t\\t\\tThe carcinogenicity classifications are taken from the US Occupational Safety and Health Administration (OSHA). The assessments for Other Health Effects are taken from EPA\\'s TRI Chemical Hazard Information Profiles (TRI-CHIP), a database compilation of health effects from numerous other sources.<br /><br />\\n\\t\\t\\tTo retrieve myRTK information utilizing the data service, you can use the Envirofacts REST API at <a href=\"https://iaspub.epa.gov/enviro/efservice/HEALTH_EFFECT_DESCRIPTIONS/\">https://iaspub.epa.gov/enviro/efservice/HEALTH_EFFECT_DESCRIPTIONS/</a>. To better understand the options available for retrieving myRTK Health Effects information using the Envirofacts REST API, documentation is available on the <a href=\"/enviro/web-services\">Envirofacts Services Page</a>.<br /><br />\\n\\t\\t\\tBelow are a few example Envirofacts REST API URLs that run against the myRTK data:<br />\\n\\t\\t\\t\\xc2\\xa0</p>\\n\\n\\t\\t<ul><li>Return the myRTK records in an EXCEL spreadsheet<br /><a href=\"https://iaspub.epa.gov/enviro/efservice/HEALTH_EFFECT_DESCRIPTIONS/excel/\">https://iaspub.epa.gov/enviro/efservice/HEALTH_EFFECT_DESCRIPTIONS/excel/</a><br />\\n\\t\\t\\t\\t\\xc2\\xa0</li>\\n\\t\\t\\t<li>Return the the myRTK information for CAS Number equal to N150<br /><a href=\"https://iaspub.epa.gov/enviro/efservice/HEALTH_EFFECT_DESCRIPTIONS/cas_number/=/N150/\">https://iaspub.epa.gov/enviro/efservice/HEALTH_EFFECT_DESCRIPTIONS/cas_number/=/N150/</a><br />\\n\\t\\t\\t\\t\\xc2\\xa0</li>\\n\\t\\t\\t<li>Return the myRTK information for chemical equal to \"STYRENE\"<br /><a href=\"https://iaspub.epa.gov/enviro/efservice/HEALTH_EFFECT_DESCRIPTIONS/chemical/=/STYRENE/\">https://iaspub.epa.gov/enviro/efservice/HEALTH_EFFECT_DESCRIPTIONS/chemical/=/STYRENE/</a></li>\\n\\t\\t</ul></div>\\n</div>\\n\\n<div id=\"hidden-content2\" role=\"dialog\" aria-labelledby=\"dialog-title\">\\n\\t<div class=\"colorbox-hidden\" id=\"icis\">\\n\\t\\t<h2>Integrated Compliance Information System (ICIS)</h2>\\n\\n\\t\\t<p>Concentrated Animal Feeding Operations (CAFOs) are agricultural operations where animals are kept and raised in confined situations. Manure and wastewater from CAFOs have the potential to contribute pollutants such as nitrogen and phosphorus, organic matter, sediment, pathogens, heavy metals, hormones, antibiotics, and ammonia to the environment. Animal waste can enter water bodies from spills or breaks of waste storage structures, due to accidents or excessive rain, and non-agricultural application of manure to crop land. The NPDES program regulates the discharge of pollutants from CAFOs to waters of the United States.<br /><br />\\n\\t\\t\\tCAFO information is available within the ICIS tables documented at <a href=\"/enviro/icis-perm-cafo-subject-area-model\">PCS-ICIS Model</a>. Utilizing the Envirofacts REST API, the CAFO information can be queried and retrieved from the ICIS database. To simplify the process of retrieving CAFO information, a special data view has been created combining the data within all five tables. The data view is named V_ICIS_FACILITY_CAFO.<br /><br />\\n\\t\\t\\tTo retrieve CAFO information utilizing the data view, you can utilize the Envirofacts REST API at <a href=\"https://iaspub.epa.gov/enviro/efservice/V_ICIS_FACILITY_CAFO/\">https://iaspub.epa.gov/enviro/efservice/V_ICIS_FACILITY_CAFO/</a> To better understand the options available in the Envirofacts REST API, the documentation is available on the <a href=\"/enviro/web-services\">Envirofacts Services Page</a>. All of the data elements and metadata supporting the data elements is available on the <a href=\"https://iaspub.epa.gov/enviro/EF_METADATA_HTML.other_data?p_table_name=V_ICIS_FACILITY_CAFO&amp;p_topic=ICIS\"> V_ICIS_FACILITY_CAFO</a> metadata page. Additional ICIS Other Data tables will be posted at the <a href=\"https://iaspub.epa.gov/enviro/ef_metadata_html.all_other_data?p_topic=ICIS\">ICIS Other Data metadata page</a>.<br /><br />\\n\\t\\t\\tBelow are a few example Envirofacts REST API URLs that run against the CAFO data:<br />\\n\\t\\t\\t\\xc2\\xa0</p>\\n\\n\\t\\t<ul><li>Return the first 10,000\\xc2\\xa0CAFO records within an EXCEL spreadsheet<br /><a href=\"https://iaspub.epa.gov/enviro/efservice/V_ICIS_FACILITY_CAFO/excel/\">https://iaspub.epa.gov/enviro/efservice/V_ICIS_FACILITY_CAFO/excel/</a><br />\\n\\t\\t\\t\\t\\xc2\\xa0</li>\\n\\t\\t\\t<li>Return the first 25 CAFO records within an XML document for the state of Arkansas<br /><a href=\"https://iaspub.epa.gov/enviro/efservice/V_ICIS_FACILITY_CAFO/state_code/AR/rows/0:24\">https://iaspub.epa.gov/enviro/efservice/V_ICIS_FACILITY_CAFO/state_code/AR/rows/0:24</a><br />\\n\\t\\t\\t\\t\\xc2\\xa0</li>\\n\\t\\t\\t<li>Return the second 50 CAFO records within a JSON document for the ZIP Code 72655<br /><a href=\"https://iaspub.epa.gov/enviro/efservice/V_ICIS_FACILITY_CAFO/zip/72655/rows/50:99/JSON\">https://iaspub.epa.gov/enviro/efservice/V_ICIS_FACILITY_CAFO/zip/72655/rows/50:99/JSON</a></li>\\n\\t\\t</ul></div>\\n</div>\\n\\n<div id=\"hidden-content3\" role=\"dialog\" aria-labelledby=\"dialog-title\">\\n\\t<div class=\"colorbox-hidden\" id=\"echo\">\\n\\t\\t<h2>Enforcement &amp; Compliance History Online (ECHO)</h2>\\n\\t\\t<img alt=\"ECHO logo\" src=\"/sites/production/files/styles/large/public/2014-03/echo-logo-small.png\" /><h3>About the Program</h3>\\n\\t\\tECHO focuses on facility compliance and EPA/state enforcement of environmental regulations. ECHO provides integrated compliance and enforcement information for approximately 800,000 regulated facilities nationwide. The site allows users to find inspection, violation, enforcement action, informal enforcement action, and penalty information about facilities for the past three years. Facilities regulated under the following environmental statutes are included: Clean Air Act (CAA) Stationary Source Program, Clean Water Act (CWA) National Pollutant Elimination Discharge System (NPDES), Resource Conservation and Recovery Act (RCRA), and Safe Drinking Water Act (SDWA). The information shown in ECHO accesses an integrated database called IDEA, which stands for Integrated Data for Enforcement Analysis. Some users prefer to use the raw IDEA data rather than using the ECHO web interface. The ECHO Exporter and IDEA data downloads provide a full set of information nationally, whereas ECHO has limitations on how much data can be shown at one time.\\n\\n\\t\\t\\n\\n\\t\\t\\n\\n\\t\\t<h3>Get the Data</h3>\\n\\t\\tThe ECHO dataset is updated monthly and can be downloaded or accessed directly from the database.\\n\\n\\t\\t\\n\\n\\t\\t<p>To access the data real-time, that\\'s updated monthly, within the Envirofact\\'s database, you can use the <a href=\"/enviro/web-services\">Envirofacts RESTful API</a>. The data can be obtained in four different output types. Please use the links below to access the most current compliance data within the Envirofacts database. The compliance data from ECHO only consists of one table, so the links below will retrieve all of the columns available within the Envirofacts database for ECHO\\'s compliance data. These links will retrieve the first 5 rows of data within the table.</p>\\n\\n\\t\\t<ul><li><a href=\"https://iaspub.epa.gov/enviro/efservice/t_compliance_echo/rows/0:4/CSV\">https://iaspub.epa.gov/enviro/efservice/t_compliance_echo/rows/0:4/CSV</a> - (Comma Separated Value format)</li>\\n\\t\\t\\t<li><a href=\"https://iaspub.epa.gov/enviro/efservice/t_compliance_echo/rows/0:4/JSON\">https://iaspub.epa.gov/enviro/efservice/t_compliance_echo/rows/0:4/JSON</a> - (JavaScript Object Notation format)</li>\\n\\t\\t\\t<li><a href=\"https://iaspub.epa.gov/enviro/efservice/t_compliance_echo/rows/0:4/EXCEL\">https://iaspub.epa.gov/enviro/efservice/t_compliance_echo/rows/0:4/EXCEL</a> - (Microsoft Excel format)</li>\\n\\t\\t\\t<li><a href=\"https://iaspub.epa.gov/enviro/efservice/t_compliance_echo/rows/0:4/XML\">https://iaspub.epa.gov/enviro/efservice/t_compliance_echo/rows/0:4/XML</a> - (Extensible Markup Language format)</li>\\n\\t\\t</ul>\\n\\t\\tThe Envirofacts RESTful API can output 5000 rows of data from the table for each call to the API. For more information on how this process works, along with other functionality within the API, please visit the <a href=\"/enviro/envirofacts-data-service-api\">Envirofacts RESTful API</a>.<br /><br />\\n\\t\\tBelow are a few additional links to the Envirofacts RESTful API, using a few of the features to query compliance data.\\n\\t\\t<ul><li><a href=\"https://iaspub.epa.gov/enviro/efservice/t_compliance_echo/zip/60085/EXCEL\">https://iaspub.epa.gov/enviro/efservice/t_compliance_echo/zip/60085/EXCEL</a> - This URL will return all of the compliance records for ZIP Code 60085 in an EXCEL file.</li>\\n\\t\\t\\t<li><a href=\"https://iaspub.epa.gov/enviro/efservice/t_compliance_echo/city/WASHINGTON/state/DC\">https://iaspub.epa.gov/enviro/efservice/t_compliance_echo/city/WASHINGTON/state/DC</a> - This URL will return all of the compliance records for Washington, DC in XML.</li>\\n\\t\\t\\t<li><a href=\"https://iaspub.epa.gov/enviro/efservice/t_compliance_echo/city/WASHINGTON/state/DC/CURR_COMP_STATUS/serious violation(s)/JSON\">https://iaspub.epa.gov/enviro/efservice/t_compliance_echo/city/WASHINGTON/state/DC/CURR_COMP_STATUS/serious violation(s)/JSON</a> - This URL will return all of the compliance records whos current compliance records are listed as \"serious violations(s)\" in Washington, DC as a JSON output.</li>\\n\\t\\t</ul>\\n\\t\\tUsing the features of the <a href=\"/enviro/web-services\">Envirofacts RESTful API</a> and the <a href=\"https://echo.epa.gov/files/echodownloads/echo_exporter.zip\">Latest ECHO Explorer Version 2.0 Download</a>, you can query the compliance and incorporate the results within your app. <!-- BR-->\\n\\n\\t\\t\\n\\t\\t\\xc2\\xa0\\n\\n\\t\\t<p>In addition to the above Envirofacts RESTful API access to the data, the complete ECHO dataset can be downloaded. <a href=\"https://echo.epa.gov/files/echodownloads/echo_exporter.zip\">Latest ECHO Explorer Version 2.0 Download</a></p>\\n\\t</div>\\n</div>\\n\\n<div id=\"hidden-content4\" role=\"dialog\" aria-labelledby=\"dialog-title\">\\n\\t<div class=\"colorbox-hidden\" id=\"sdwis\">\\n\\t\\t<h2>Safe Drinking Water Information System (SDWIS)</h2>\\n\\n\\t\\t<p>National Primary Drinking Water Regulations (NPDWRs), or primary standards, are legally enforceable standards that apply to public water systems. Primary standards protect public health by limiting the levels of certain contaminants in drinking water. EPA sets a Maximum Contamination Limit (MCL) for every regulated contaminant. When public water systems are found to contain contaminants in amounts exceeding the MCL, they are in violation and must take action to restore the quality of their water. For more information about EPA regulated drinking water contaminants visit <a href=\"https://water.epa.gov/drink/contaminants/#List\">https://water.epa.gov/drink/contaminants/#List</a>.<br /><br />\\n\\t\\t\\tSDWIS information is available within the tables documented at: <a href=\"/enviro/sdwis-model\">SDWIS Model</a>. Utilizing the Envirofacts REST API, the SDWIS information can be queried and retrieved from the SDWIS database. To simplify the process of retrieving SDWIS information, special data views have been created combining the data within all SDWIS tables. These data views, using the REST API service, are described below. To better understand the options available in the Envirofacts REST API, the documentation is available on the <a href=\"/enviro/web-services\">Envirofacts Services Page</a>. For information on the tables and columns available thru the service calls below, please visit the <a href=\"https://iaspub.epa.gov/enviro/ef_metadata_html.all_other_data?p_topic=SDWIS\">SDWIS Other Data metadata page</a>.<br /><br />\\n\\t\\t\\tSDWIS Other Data tables (metadata):<br />\\n\\t\\t\\t\\xc2\\xa0</p>\\n\\n\\t\\t<ul><li><a href=\"https://iaspub.epa.gov/enviro/EF_METADATA_HTML.other_data?p_table_name=SDW_COUNTY_SERVED&amp;p_topic=SDWIS\">SDW_COUNTY_SERVED</a></li>\\n\\t\\t\\t<li><a href=\"https://iaspub.epa.gov/enviro/EF_METADATA_HTML.other_data?p_table_name=SDW_VIOL_ENFORCEMENT&amp;p_topic=SDWIS\">SDW_VIOL_ENFORCEMENT</a></li>\\n\\t\\t\\t<li><a href=\"https://iaspub.epa.gov/enviro/EF_METADATA_HTML.other_data?p_table_name=SDW_CONTAM_VIOL_ZIP&amp;p_topic=SDWIS\">SDW_CONTAM_VIOL_ZIP</a></li>\\n\\t\\t\\t<li><a href=\"https://iaspub.epa.gov/enviro/EF_METADATA_HTML.other_data?p_table_name=SDW_CONTAM_VIOL_CITY&amp;p_topic=SDWIS\">SDW_CONTAM_VIOL_CITY</a></li>\\n\\t\\t</ul><br />\\n\\t\\tExample SDWIS REST API services:<br />\\n\\t\\t\\xc2\\xa0\\n\\t\\t<ul><li>I would like to know, within a specific county, what are the different Public Water Systems (PWSs), the population served by each one, the regulating agency, and the contact name and phone number.<br />\\n\\t\\t\\t\\tRest Web Service URL: <a href=\"https://iaspub.epa.gov/enviro/efservice/SDW_COUNTY_SERVED/COUNTYSERVED/ACCOMACK\">https://iaspub.epa.gov/enviro/efservice/SDW_COUNTY_SERVED/COUNTYSERVED/ACCOMACK</a><br />\\n\\t\\t\\t\\t\\xc2\\xa0</li>\\n\\t\\t\\t<li>I would like to know, within a specific county and state, the violations and enforcement actions for the different PWSs, as well as the definitions, health effects, and sources of contamination for any contaminants.<br />\\n\\t\\t\\t\\tRest Web Service URL: <a href=\"https://iaspub.epa.gov/enviro/efservice/SDW_VIOL_ENFORCEMENT/COUNTYSERVED/MCLEAN/STATE/IL/Excel\">https://iaspub.epa.gov/enviro/efservice/SDW_VIOL_ENFORCEMENT/COUNTYSERVED/MCLEAN/STATE/IL/Excel</a><br />\\n\\t\\t\\t\\t\\xc2\\xa0</li>\\n\\t\\t\\t<li>I would like to know, for a specific PWS, the violations and enforcement actions, as well as the definitions, health effects, and sources of contamination for any contaminants.<br />\\n\\t\\t\\t\\tRest Web Service URL: <a href=\"https://iaspub.epa.gov/enviro/efservice/SDW_VIOL_ENFORCEMENT/PWSID/IL3141937/JSON\">https://iaspub.epa.gov/enviro/efservice/SDW_VIOL_ENFORCEMENT/PWSID/IL3141937/JSON</a><br />\\n\\t\\t\\t\\t\\xc2\\xa0</li>\\n\\t\\t\\t<li>I would like to know, for a specific zip code, the violations and enforcement actions, as well as the definitions, health effects, and sources of contamination for any contaminants.<br />\\n\\t\\t\\t\\tRest Web Service URL: <a href=\"https://iaspub.epa.gov/enviro/efservice/SDW_CONTAM_VIOL_ZIP/geolocation_zip/=/20460/rows/1:10/excel\">https://iaspub.epa.gov/enviro/efservice/SDW_CONTAM_VIOL_ZIP/geolocation_zip/=/20460/rows/1:10/excel</a><br />\\n\\t\\t\\t\\t\\xc2\\xa0</li>\\n\\t\\t\\t<li>I would like to know, for a specific city and state, the violations and enforcement actions, as well as the definitions, health effects, and sources of contamination for any contaminants.<br />\\n\\t\\t\\t\\tRest Web Service URL: <a href=\"https://iaspub.epa.gov/enviro/efservice/SDW_CONTAM_VIOL_CITY/geolocation_city/CROFTON/STATE/MD/rows/1:10/excel\">https://iaspub.epa.gov/enviro/efservice/SDW_CONTAM_VIOL_CITY/geolocation_city/CROFTON/STATE/MD/rows/1:10/excel</a></li>\\n\\t\\t</ul></div>\\n</div>\\n\\n<div id=\"hidden-content5\" role=\"dialog\" aria-labelledby=\"dialog-title\">\\n\\t<div class=\"colorbox-hidden\" id=\"saferchoice\">\\n\\t\\t<h2>Safer Choice</h2>\\n\\t\\t<img height=\"160\" alt=\"Safer Choice logo\" src=\"/sites/production/files/styles/small/public/2015-03/saferchoice-400.jpg\" /><h3>About the Program</h3>\\n\\t\\tProducts that qualify for the Safer Choice label contain ingredients that are safer for workers, families, pets, and the environment -- EPA scientists review every ingredient for potential health and environmental concerns. Safer Choice-labeled products must also meet performance, packaging, and ingredient disclosure requirements.\\n\\n\\t\\t<h3>Get the Data</h3>\\n\\t\\t<strong>Learn about the API</strong> - Safer Choice data can be downloaded via the <a href=\"/enviro/web-services\">Envirofacts RESTful API</a>. The data can be obtained in four different output types. Please use the links below to access the most current Safer Choice data within the Envirofacts database. Safer Choice only consists of one table, so the links below will retrieve all of the data within the Envirofacts database for the T_SAFERCHOICE table.<br />\\n\\t\\t\\xc2\\xa0\\n\\t\\t<ul><li><a href=\"https://iaspub.epa.gov/enviro/efservice/t_saferchoice/CSV\">https://iaspub.epa.gov/enviro/efservice/t_saferchoice/CSV</a> - (Comma Separated Value format)</li>\\n\\t\\t\\t<li><a href=\"https://iaspub.epa.gov/enviro/efservice/t_saferchoice/JSON\">https://iaspub.epa.gov/enviro/efservice/t_saferchoice/JSON</a> - (JavaScript Object Notation format)</li>\\n\\t\\t\\t<li><a href=\"https://iaspub.epa.gov/enviro/efservice/t_saferchoice/EXCEL\">https://iaspub.epa.gov/enviro/efservice/t_saferchoice/EXCEL</a> - (Microsoft Excel format)</li>\\n\\t\\t\\t<li><a href=\"https://iaspub.epa.gov/enviro/efservice/t_saferchoice/XML\">https://iaspub.epa.gov/enviro/efservice/t_saferchoice/XML</a> - (Extensible Markup Language format)</li>\\n\\t\\t</ul><br />\\n\\t\\tThe Spanish version of this data is available in the T_SAFERCHOICE_ESP table.<br />\\n\\t\\t\\xc2\\xa0\\n\\t\\t<ul><li><a href=\"https://iaspub.epa.gov/enviro/efservice/t_saferchoice_esp/CSV\">https://iaspub.epa.gov/enviro/efservice/t_saferchoice_esp/CSV</a> - (Comma Separated Value format)</li>\\n\\t\\t\\t<li><a href=\"https://iaspub.epa.gov/enviro/efservice/t_saferchoice_esp/JSON\">https://iaspub.epa.gov/enviro/efservice/t_saferchoice_esp/JSON</a> - (JavaScript Object Notation format)</li>\\n\\t\\t\\t<li><a href=\"https://iaspub.epa.gov/enviro/efservice/t_saferchoice_esp/EXCEL\">https://iaspub.epa.gov/enviro/efservice/t_saferchoice_esp/EXCEL</a> - (Microsoft Excel format)</li>\\n\\t\\t\\t<li><a href=\"https://iaspub.epa.gov/enviro/efservice/t_saferchoice_esp/XML\">https://iaspub.epa.gov/enviro/efservice/t_saferchoice_esp/XML</a> - (Extensible Markup Language format)</li>\\n\\t\\t</ul>\\n\\t\\tThe links above are available for you to download the full dataset, however you can use the information in the View the Model section below, or the <a href=\"/enviro/safer-choice-other-service-enabled-data-model\">Safer Choice Model page</a>, along with the <a href=\"/enviro/web-services\">Envirofacts RESTful API documentation</a> to create additional queries against the database.<br /><br /><strong>View the Model</strong> - The <a href=\"/enviro/safer-choice-other-service-enabled-data-model\">data model</a> is an important aspect of using the <a href=\"/enviro/web-services\">Envirofacts RESTful API</a>. The model can be used to create Uniform Resource Locators (URL) that will query specific data elements for use in your applications. Safer Choice only consists of one table, as defined below:<br />\\n\\t\\tTable Name: <b>T_SAFERCHOICE</b><br />\\n\\t\\tColumns:\\n\\t\\t<ul><li><b>PRODUCT NAME</b> - A Safer Choice-labeled product that is made by a partner company.</li>\\n\\t\\t\\t<li><b>COMPANY NAME</b> - A company who has signed a partnership agreement with the Safer Choice program.</li>\\n\\t\\t\\t<li><b>SECTOR</b> - A category of products, including the audience (e.g., Consumer or Institutional/Industrial) as well as the product use such as all-purpose cleaners, laundry detergents, etc.</li>\\n\\t\\t\\t<li><b>CATEGORY</b> - Reported values of Industrial/Institutional Product or Consumer Product representing the audience.</li>\\n\\t\\t\\t<li><b>CITY</b> - The city name of the partner\\'s location.</li>\\n\\t\\t\\t<li><b>STATE</b> - The state abbreviation for the partner\\'s location.</li>\\n\\t\\t\\t<li><b>PARTNER SINCE</b> - The date a company signed a partnership agreement with the Safer Choice program.</li>\\n\\t\\t\\t<li><b>FRAGRANCE-FREE</b> - Safer Choice has verified that these products meet the Safer Choice Criteria for Fragrance-Free Products (<a href=\"/saferchoice/safer-choice-criteria-fragrance-free-products\">https://www.epa.gov/saferchoice/safer-choice-criteria-fragrance-free-products</a>).</li>\\n\\t\\t\\t<li><b>OUTDOOR USE</b> - Safer Choice encourages limiting direct releases to the environment.\\xc2\\xa0 Where marketed for outdoor use, Safer Choice-certified products must contain ingredients that meet the Safer Choice Criteria for Chemicals in Direct Release Products (<a href=\"/saferchoice/standard#tab-3\">https://www.epa.gov/saferchoice/standard#tab-3</a>).</li>\\n\\t\\t</ul>\\n\\t\\tFor additional information, please see the <a href=\"/enviro/safer-choice-other-service-enabled-data-model\">Safer Choice Model</a> page.<br /><br /><strong>Sample Data </strong> - When running the <a href=\"/enviro/web-services\">Envirofacts RESTful API</a> you will retrieve data in various formats. An example of how the data appears is below.\\n\\n\\t\\t<table><tbody><tr><th>CATEGORY</th>\\n\\t\\t\\t\\t\\t<th>SECTOR</th>\\n\\t\\t\\t\\t\\t<th>COMPANY NAME</th>\\n\\t\\t\\t\\t\\t<th>CITY</th>\\n\\t\\t\\t\\t\\t<th>STATE</th>\\n\\t\\t\\t\\t\\t<th>PARTNER SINCE</th>\\n\\t\\t\\t\\t\\t<th>PRODUCT NAME</th>\\n\\t\\t\\t\\t\\t<th>FRAGRANCE-FREE</th>\\n\\t\\t\\t\\t\\t<th>OUTDOOR USE</th>\\n\\t\\t\\t\\t</tr><tr><td>Industrial/Institutional Product</td>\\n\\t\\t\\t\\t\\t<td>All-Purpose Cleaners</td>\\n\\t\\t\\t\\t\\t<td>Barnes Distribution</td>\\n\\t\\t\\t\\t\\t<td>Cleveland</td>\\n\\t\\t\\t\\t\\t<td>OH</td>\\n\\t\\t\\t\\t\\t<td>Apr 2009</td>\\n\\t\\t\\t\\t\\t<td>*Biodyne - Unscented</td>\\n\\t\\t\\t\\t\\t<td>\\xc2\\xa0</td>\\n\\t\\t\\t\\t\\t<td>\\xc2\\xa0</td>\\n\\t\\t\\t\\t</tr><tr><td>Industrial/Institutional Product</td>\\n\\t\\t\\t\\t\\t<td>All-Purpose Cleaners</td>\\n\\t\\t\\t\\t\\t<td>BCD Supply</td>\\n\\t\\t\\t\\t\\t<td>Crest Hill</td>\\n\\t\\t\\t\\t\\t<td>IL</td>\\n\\t\\t\\t\\t\\t<td>Jun 2011</td>\\n\\t\\t\\t\\t\\t<td>*Green Clean Enviro-Degreaser</td>\\n\\t\\t\\t\\t\\t<td>\\xc2\\xa0</td>\\n\\t\\t\\t\\t\\t<td>\\xc2\\xa0</td>\\n\\t\\t\\t\\t</tr><tr><td>Industrial/Institutional Product</td>\\n\\t\\t\\t\\t\\t<td>All-Purpose Cleaners</td>\\n\\t\\t\\t\\t\\t<td>Beaver Research Company</td>\\n\\t\\t\\t\\t\\t<td>Portage</td>\\n\\t\\t\\t\\t\\t<td>MI</td>\\n\\t\\t\\t\\t\\t<td>Jan 2009</td>\\n\\t\\t\\t\\t\\t<td>*FOAM BLANC</td>\\n\\t\\t\\t\\t\\t<td>\\xc2\\xa0</td>\\n\\t\\t\\t\\t\\t<td>\\xc2\\xa0</td>\\n\\t\\t\\t\\t</tr></tbody></table><h3>Additional Resources</h3>\\n\\n\\t\\t<ul><li><a href=\"/saferchoice\">Safer Choice Home Page</a></li>\\n\\t\\t\\t<li><a href=\"/saferchoice/learn-about-safer-choice-label\">Learn About the Safer Choice Label</a></li>\\n\\t\\t\\t<li><a href=\"https://www.facebook.com/EPASaferChoice/\">Safer Choice on Facebook</a></li>\\n\\t\\t</ul></div>\\n</div>\\n</div>\\n  </div>\\n\\n  \\n  \\n</div>\\n\\n</div>\\n<aside class=\"col size-1of4\">\\n<div class=\"panel-pane pane-fieldable-panels-pane pane-fpid-8197 pane-bundle-fieldable-panels-pane\" >\\n\\n  \\n  \\n  \\n  \\n  \\n  <div class=\"pane-content\">\\n    <p><iframe height=\"140\" id=\"formr\" scrolling=\"no\" src=\"/sites/production/files/widgets/ef-topics/ef-search.html\" width=\"208\"></iframe></p>\\n  </div>\\n\\n  \\n  \\n</div>\\n\\n\\n<div class=\"panel-pane pane-fieldable-panels-pane pane-fpid-6411 pane-bundle-fieldable-panels-pane box multi related-info\" >\\n\\n  \\n  \\n      <h2 class=\"pane-title\">System Data Searches</h2>\\n  \\n  \\n  \\n  <div class=\"pane-content\">\\n    <ul><li><a href=\"https://www3.epa.gov/enviro/facts/multisystem.html\">Multisystem</a></li>\\n\\t<li><a href=\"/enviro/br-search\">BR</a></li>\\n\\t<li><a href=\"https://ofmpub.epa.gov/apex/cimc/f?p=cimc:MAP::::71:P71_WELSEARCH:NULL%7CCleanup%7C%7C%7C%7Ctrue%7Cfalse%7Cfalse%7Cfalse%7Cfalse%7Cfalse%7C%7C%7Csites%7CY\">Brownfields/Cleanups</a></li>\\n\\t<li><a href=\"/cleanups/cleanups-my-community\">Cleanups</a></li>\\n\\t<li><a href=\"https://echo.epa.gov\">ECHO/IDEA</a></li>\\n\\t<li><a href=\"/frs/frs-query\">FRS</a>\\n\\t\\t<ul><li><a href=\"/frs/frs-ez-query\">EZ Search</a></li>\\n\\t\\t\\t<li><a href=\"https://iaspub.epa.gov/enviro/organization_query_form\">Organization Search</a></li>\\n\\t\\t</ul></li>\\n\\t<li><a href=\"https://www3.epa.gov/enviro/facts/ghg/search.html\">Greenhouse Gas</a>\\n\\t\\t<ul><li><a href=\"/enviro/greenhouse-gas-customized-search\">Customized Search</a></li>\\n\\t\\t</ul></li>\\n\\t<li><a href=\"/enviro/pcs-icis-search\">ICIS</a></li>\\n\\t<li><a href=\"/enviro/icis-air-search\">ICIS-AIR</a></li>\\n\\t<li><a href=\"https://archive.epa.gov/enviro/html/icr/web/html/icr_query.html\">ICR</a></li>\\n\\t<li><a href=\"https://www3.epa.gov/enviro/facts/igms/search.html\">IGMS</a></li>\\n\\t<li><a href=\"/frs/frs-ez-query\">Locational Information</a>\\n\\t\\t<ul><li><a href=\"/frs/geospatial-viewer\">Locational Search</a></li>\\n\\t\\t</ul></li>\\n\\t<li><a href=\"https://www3.epa.gov/enviro/facts/nei/\">NEI</a></li>\\n\\t<li><a href=\"/enviro/pcs-icis-search\">PCS</a>\\n\\t\\t<ul><li><a href=\"/enviro/pcs-icis-customized-search\">Customized Search</a></li>\\n\\t\\t</ul></li>\\n\\t<li><a href=\"https://www3.epa.gov/enviro/facts/radinfo/search.html\">RADInfo</a></li>\\n\\t<li><a href=\"https://iaspub.epa.gov/enviro/erams_query_v2.simple_query\">RadNet</a>\\n\\t\\t<ul><li><a href=\"/enviro/radnet-customized-search\">Customized Search</a></li>\\n\\t\\t</ul></li>\\n\\t<li><a href=\"https://www3.epa.gov/enviro/facts/rcrainfo/search.html\">RCRAInfo</a></li>\\n\\t<li><a href=\"/enviro/sdwis-search\">SDWIS</a></li>\\n\\t<li><a href=\"/enviro/sems-search\">SEMS</a></li>\\n\\t<li><a href=\"https://iaspub.epa.gov/sor_internet/registry/substreg/searchandretrieve/substancesearch/search.do\">SRS</a></li>\\n\\t<li>TRI\\n\\t\\t<ul><li><a href=\"https://iaspub.epa.gov/triexplorer/tri_release.chemical\">TRI Explorer</a></li>\\n\\t\\t\\t<li><a href=\"/enviro/tri-search\">TRI Search</a></li>\\n\\t\\t\\t<li><a href=\"https://www3.epa.gov/enviro/facts/tri/form_r_search.html\">Form R Search</a></li>\\n\\t\\t\\t<li><a href=\"https://www3.epa.gov/enviro/facts/tri/form_ra_download.html\">Form R &amp; A Download</a></li>\\n\\t\\t\\t<li><a href=\"/enviro/tri-ez-search\">EZ Search</a></li>\\n\\t\\t\\t<li><a href=\"/enviro/tri-customized-search\">Customized Search</a></li>\\n\\t\\t\\t<li><a href=\"https://www3.epa.gov/enviro/facts/tri/p2.html\" target=\"blank\">Pollution Prevention</a></li>\\n\\t\\t</ul></li>\\n\\t<li><a href=\"https://www3.epa.gov/enviro/facts/tsca/tsca_search.html\">TSCA</a></li>\\n\\t<li><a href=\"/enviro/uv-index-search\">UV Index</a></li>\\n</ul>  </div>\\n\\n  \\n  \\n</div>\\n\\n\\n<div class=\"panel-pane pane-fieldable-panels-pane pane-fpid-7835 pane-bundle-fieldable-panels-pane box multi related-info\" >\\n\\n  \\n  \\n      <h2 class=\"pane-title\">Other Sites of Interest</h2>\\n  \\n  \\n  \\n  <div class=\"pane-content\">\\n    <ul><li><a href=\"/frs/geospatial-data-download-service\">Geospatial Download</a></li>\\n\\t<li><a href=\"https://iaspub.epa.gov/enviro/em4ef.home\">EnviroMapper</a></li>\\n\\t<li><a href=\"http://www3.epa.gov/enviro/myenviro/\">MyEnvironment</a></li>\\n</ul>  </div>\\n\\n  \\n  \\n</div>\\n\\n</aside>\\n</div><div id=\"block-pane-epa-web-area-footer\" class=\"block block-pane  block-pane-epa-web-area-footer\">\\n  \\n  \\n  \\n  \\n    <p class=\"web-area-footer\"><a href=\"/enviro/forms/contact-us-about-envirofacts\" class=\"contact-us\">Contact Us</a> to ask a question, provide feedback, or report a problem.</p>  \\n</div>\\n  \\n    <!--googleoff: all-->\\n      </div>\\n  </section>\\n\\n<footer class=\"main-footer clearfix\" role=\"contentinfo\">\\n  <div class=\"main-footer__inner\">\\n    \\n  \\n  <div class=\"region-footer\">  <div id=\"block-pane-epa-global-footer\" class=\"block block-pane  block-pane-epa-global-footer\">\\n  \\n  \\n  \\n  \\n    <div class=\"row cols-3\">\\n  <div class=\"col size-1of3\">\\n    <div class=\"col__title\">Discover.</div>\\n    <ul class=\"menu\">\\n      <li><a href=\"/accessibility\">Accessibility</a></li>\\n      <li><a href=\"/aboutepa/epas-administrator\">EPA Administrator</a></li>\\n      <li><a href=\"/planandbudget\">Budget &amp; Performance</a></li>\\n      <li><a href=\"/contracts\">Contracting</a></li>\\n      <li><a href=\"/home/grants-and-other-funding-opportunities\">Grants</a></li>\\n      <li><a href=\"https://19january2017snapshot.epa.gov\">January 19, 2017 Web Snapshot</a></li>\\n      <li><a href=\"/ocr/whistleblower-protections-epa-and-how-they-relate-non-disclosure-agreements-signed-epa-employees\">No FEAR Act Data</a></li>\\n      <li><a href=\"/privacy\">Privacy</a></li>\\n      <li><a href=\"/privacy/privacy-and-security-notice\">Privacy and Security Notice</a></li>\\n    </ul>\\n  </div>\\n  <div class=\"col size-1of3\">\\n    <div class=\"col__title\">Connect.</div>\\n    <ul class=\"menu\">\\n      <li><a href=\"https://www.data.gov/\">Data.gov</a></li>\\n      <li><a href=\"/office-inspector-general/about-epas-office-inspector-general\">Inspector General</a></li>\\n      <li><a href=\"/careers\">Jobs</a></li>\\n      <li><a href=\"/newsroom\">Newsroom</a></li>\\n      <li><a href=\"/open\">Open Government</a></li>\\n      <li><a href=\"https://www.regulations.gov/\">Regulations.gov</a></li>\\n      <li><a href=\"/newsroom/email-subscriptions\">Subscribe</a></li>\\n      <li><a href=\"https://www.usa.gov/\">USA.gov</a></li>\\n      <li><a href=\"https://www.whitehouse.gov/\">White House</a></li>\\n    </ul>\\n  </div>\\n  <div class=\"col size-1of3\">\\n    <div class=\"col__title\">Ask.</div>\\n    <ul class=\"menu\">\\n      <li><a href=\"/home/forms/contact-epa\">Contact Us</a></li>\\n      <li><a href=\"/home/epa-hotlines\">Hotlines</a></li>\\n      <li><a href=\"/foia\">FOIA Requests</a></li>\\n      <li><a href=\"/home/frequent-questions-specific-epa-programstopics\">Frequent Questions</a></li>\\n    </ul>\\n\\n    <div class=\"col__title\">Follow.</div>\\n    <ul class=\"social-menu\">\\n      <li><a class=\"menu-link social-facebook\" href=\"https://www.facebook.com/EPA\">Facebook</a></li>\\n      <li><a class=\"menu-link social-twitter\" href=\"https://twitter.com/epa\">Twitter</a></li>\\n      <li><a class=\"menu-link social-youtube\" href=\"https://www.youtube.com/user/USEPAgov\">YouTube</a></li>\\n      <li><a class=\"menu-link social-flickr\" href=\"https://www.flickr.com/photos/usepagov\">Flickr</a></li>\\n      <li><a class=\"menu-link social-instagram\" href=\"https://www.instagram.com/epagov\">Instagram</a></li>\\n    </ul>\\n\\n    <p class=\"last-updated\">Last updated on October 25, 2018</p>\\n  </div>\\n</div>  \\n</div>\\n  </div>\\n  </div>\\n</footer>\\n  <script src=\"https://www.epa.gov/sites/all/modules/contrib/jquery_update/replace/jquery/1.7/jquery.min.js?v=1.7.2\"></script>\\n<script src=\"https://www.epa.gov/misc/jquery.once.js?v=1.2\"></script>\\n<script src=\"https://www.epa.gov/misc/drupal.js?pjmqq7\"></script>\\n<script src=\"https://www.epa.gov/sites/all/modules/contrib/jquery_update/replace/ui/ui/minified/jquery.ui.core.min.js?v=1.10.2\"></script>\\n<script src=\"https://www.epa.gov/sites/all/modules/contrib/jquery_update/replace/ui/ui/minified/jquery.ui.widget.min.js?v=1.10.2\"></script>\\n<script src=\"https://www.epa.gov/sites/all/modules/contrib/jquery_update/replace/ui/ui/minified/jquery.ui.position.min.js?v=1.10.2\"></script>\\n<script src=\"https://www.epa.gov/sites/all/modules/contrib/jquery_update/replace/ui/ui/minified/jquery.ui.menu.min.js?v=1.10.2\"></script>\\n<script src=\"https://www.epa.gov/sites/all/modules/contrib/jquery_update/replace/ui/ui/minified/jquery.ui.autocomplete.min.js?v=1.10.2\"></script>\\n<script>\\n<!--//--><![CDATA[//><!--\\ndocument.createElement( \"picture\" );\\n//--><!]]>\\n</script>\\n<script src=\"https://www.epa.gov/sites/all/modules/contrib/picture/picturefill2/picturefill.js?v=2.0\"></script>\\n<script src=\"https://www.epa.gov/sites/all/modules/contrib/picture/picture.js?v=7.60\"></script>\\n<script src=\"https://www.epa.gov/sites/all/libraries/hoverIntent/jquery.hoverIntent.js?pjmqq7\"></script>\\n<script src=\"https://www.epa.gov/sites/all/modules/custom/epa_core/js/alert.www.js?pjmqq7\"></script>\\n<script src=\"https://www.epa.gov/sites/all/modules/custom/epa_core/js/close-alert.js?pjmqq7\"></script>\\n<script src=\"https://www.epa.gov/sites/all/libraries/tablesorter/jquery.tablesorter.min.js?pjmqq7\"></script>\\n<script src=\"https://www.epa.gov/sites/all/modules/custom/epa_core/js/search-autocomplete.min.js?pjmqq7\"></script>\\n<script src=\"https://www.epa.gov/sites/all/modules/custom/add_definitions/add_definitions.min.js?pjmqq7\"></script>\\n<script src=\"https://www.epa.gov/sites/all/themes/epa/js/script.min.js?pjmqq7\"></script>\\n<script src=\"https://www.epa.gov/sites/all/themes/epa/js/mobile-menu.min.js?pjmqq7\"></script>\\n<script src=\"https://www.epa.gov/sites/all/themes/epa/js/drop-down-menu.min.js?pjmqq7\"></script>\\n<script src=\"https://www.epa.gov/sites/all/themes/epa/js/svgxuse.min.js?pjmqq7\"></script>\\n<script>\\n<!--//--><![CDATA[//><!--\\njQuery.extend(Drupal.settings, {\"basePath\":\"\\\\/\",\"pathPrefix\":\"\",\"ajaxPageState\":{\"theme\":\"epa\",\"theme_token\":\"2-lCnDSwovp_b73M0a5DNrCPOhEkoA4Uk8MtxY8YRac\"},\"epa_wysiwyg\":{\"site_default_lang\":\"en\"},\"better_exposed_filters\":{\"views\":{\"revision_hublinks\":{\"displays\":{\"block\":{\"filters\":[]}}}}},\"add_definitions\":{\"path\":\"sites\\\\/all\\\\/modules\\\\/custom\\\\/add_definitions\",\"dictionary_filter\":\"1\",\"dictionary_undo\":\"1\",\"dictionary_occurrences\":\"1\",\"service_endpoint\":\"https:\\\\/\\\\/ofmpub.epa.gov\\\\/termlookup\\\\/v1\\\\/terms\"},\"ogContext\":{\"groupType\":\"node\",\"gid\":\"96069\"}});\\n//--><!]]>\\n</script>\\n<script src=\"/sites/all/libraries/colorbox/colorbox/jquery.colorbox-min.js\"></script>\\r\\n<script>\\r\\n jQuery(document).ready(function() {\\r\\n  // Hide the inline content\\r\\n  jQuery(\"#hidden-content\").css({\\'display\\':\\'none\\'});\\r\\n  jQuery(\"#hidden-content2\").css({\\'display\\':\\'none\\'});\\r\\n  jQuery(\"#hidden-content3\").css({\\'display\\':\\'none\\'});\\r\\n  jQuery(\"#hidden-content4\").css({\\'display\\':\\'none\\'});\\r\\n  jQuery(\"#hidden-content5\").css({\\'display\\':\\'none\\'});\\r\\n  // Open inlined content in \"box\"\\r\\n  jQuery(\".colorbox-inline\").colorbox({inline:true,width:\"50%\"});\\r\\n });\\r\\n</script>\\r\\n    <!--[if lt IE 9]><script src=\"/sites/all/themes/epa/js/ie.min.js\"></script><![endif]--></body>\\n</html>\\n\\n<!-- Page cached by Boost @ 2018-12-20 11:37:13, expires @ 2018-12-22 11:37:13, lifetime 2 days -->'\n"
     ]
    }
   ],
   "source": [
    "# You can use anywebsite of choice. Check apporpriate privacy and policies!\n",
    "siteUrl= urllib.request.urlopen(\"https://www.epa.gov/enviro/other-service-enabled-data\")\n",
    "print(\"The rethrived code is: \" + str(siteUrl.getcode()))\n",
    "data = siteUrl.read()\n",
    "print(data)"
   ]
  },
  {
   "cell_type": "code",
   "execution_count": 34,
   "metadata": {
    "collapsed": true
   },
   "outputs": [],
   "source": [
    "soup = BeautifulSoup(data, 'html.parser')"
   ]
  },
  {
   "cell_type": "code",
   "execution_count": 35,
   "metadata": {
    "collapsed": true
   },
   "outputs": [
    {
     "name": "stdout",
     "output_type": "stream",
     "text": [
      "<!DOCTYPE html>\n",
      "<!--[if IEMobile 7]><html class=\"iem7 no-js\" lang=\"en\" dir=\"ltr\"><![endif]-->\n",
      "<!--[if lt IE 7]><html class=\"lt-ie9 lt-ie8 lt-ie7 no-js\" lang=\"en\" dir=\"ltr\"><![endif]-->\n",
      "<!--[if (IE 7)&(!IEMobile)]><html class=\"lt-ie9 lt-ie8 no-js\" lang=\"en\" dir=\"ltr\"><![endif]-->\n",
      "<!--[if IE 8]><html \n"
     ]
    }
   ],
   "source": [
    "print (soup.prettify()[0:300])"
   ]
  },
  {
   "cell_type": "code",
   "execution_count": 36,
   "metadata": {
    "collapsed": true
   },
   "outputs": [],
   "source": [
    "onlyTextData = soup.get_text()"
   ]
  },
  {
   "cell_type": "code",
   "execution_count": 37,
   "metadata": {
    "collapsed": true
   },
   "outputs": [],
   "source": [
    "semiclean = open('onlyTextData','r')"
   ]
  },
  {
   "cell_type": "code",
   "execution_count": 38,
   "metadata": {
    "collapsed": true
   },
   "outputs": [
    {
     "data": {
      "text/plain": [
       "<_io.TextIOWrapper name='onlyTextData' mode='r' encoding='cp1252'>"
      ]
     },
     "execution_count": 38,
     "metadata": {},
     "output_type": "execute_result"
    }
   ],
   "source": [
    "semiclean"
   ]
  },
  {
   "cell_type": "code",
   "execution_count": 39,
   "metadata": {
    "collapsed": true
   },
   "outputs": [
    {
     "name": "stdout",
     "output_type": "stream",
     "text": [
      "['html', 'googleon: all', 'googleoff: snippet', 'Other Service-Enabled Data | Envirofacts | US EPA', 'googleoff: all', 'Jump to main content', 'An official website of the United States government.', \"We've made some changes to \", 'EPA.gov', 'EPA Web Archive', 'January 19, 2017 Web Snapshot', 'US EPA', 'United States Environmental Protection Agency', 'Search', 'Search', 'Main menu', 'Environmental Topics', 'Air', 'Bed Bugs', 'Chemicals and Toxics', 'Environmental Information by Location', 'Greener Living', 'Health', 'Land, Waste, and Cleanup', 'Lead', 'Mold', 'Pesticides', 'Radon', 'Science', 'Water', 'A-Z Index', 'Laws & Regulations', 'By Business Sector', 'By Topic', 'Compliance', 'Enforcement', 'Laws and Executive Orders', 'Policy and Guidance', 'Regulations', 'About EPA', 'EPA Administrator', 'Current Leadership', 'Organization Chart', 'Staff Directory', 'Planning, Budget and Results', 'Jobs and Internships', 'Headquarters Offices', 'Regional Offices', 'Labs and Research Centers', 'Related Topics:', 'Envirofacts', 'Contact Us', 'Share', 'googleon: all', 'Other Service-Enabled Data', 'googleoff: all', 'googleon: all', 'Home', 'Multisystem Search', 'Topic Searches', 'System Data Searches', 'About the Data', 'Data Downloads', 'Widgets', 'Services', 'Mobile', 'Other Datasets', 'Envirofacts contains a variety of environmental information from EPA System databases, as well as other EPA data sources. All of these data are important and critical in decision-making, however some of the data sources may not be easily accessible, and for this reason, these data are grouped on this page for easy access through the\\xa0', 'Envirofacts RESTful API', 'Envirofacts RESTful API', 'myRight-to-Know (MyRTK)', 'myRTK is an EPA website designed for mobile devices. For any address, the map displays nearby facilities regulated under federal environmental laws. Facility reports provide summaries of chemical/pollutant releases, chemical effects, and compliance history from numerous data systems.', 'View More...', 'ECHO', 'ECHO focuses on facility compliance and EPA/state enforcement of environmental regulations. ECHO provides integrated compliance and enforcement information for approximately 800,000 regulated facilities nationwide. The site allows users to find inspection, violation, enforcement action, informal enforcement action, and penalty information about facilities for the past three years. Facilities regulated under the following environmental statutes are included: Clean Air Act (CAA) Stationary Source Program, Clean Water Act (CWA) National Pollutant Elimination Discharge System (NPDES), Resource Conservation and Recovery Act (RCRA), and Safe Drinking Water Act (SDWA). The information shown in ECHO accesses an integrated database called IDEA, which stands for Integrated Data for Enforcement Analysis. Some users prefer to use the raw IDEA data rather than using the ECHO web interface. The ECHO Exporter and IDEA data downloads provide a full set of information nationally, whereas ECHO has limitations on how much data can be shown at one time.', 'View More...', 'REST API Service for Integrated Compliance Information System (ICIS)', 'Concentrated Animal Feeding Operations (CAFOs) are agricultural operations where animals are kept and raised in confined situations. Manure and wastewater from CAFOs have the potential to contribute pollutants such as nitrogen and phosphorus, organic matter, sediment, pathogens, heavy metals, hormones, antibiotics, and ammonia to the environment. Animal waste can enter water bodies from spills or breaks of waste storage structures, due to accidents or excessive rain, and non-agricultural application of manure to crop land. The NPDES program regulates the discharge of pollutants from CAFOs to waters of the United States.', 'View More...', 'Safer Choice', 'Products that qualify for the Safer Choice label contain ingredients that are safer for workers, families, pets, and the environment -- EPA scientists review every ingredient for potential health and environmental concerns. Safer Choice-labeled products must also meet performance, packaging, and ingredient disclosure requirements.', 'View More...', 'REST API Service for Safe Drinking Water Information System (SDWIS)', 'National Primary Drinking Water Regulations (NPDWRs), or primary standards, are legally enforceable standards that apply to public water systems. Primary standards protect public health by limiting the levels of certain contaminants in drinking water. EPA sets a Maximum Contamination Limit (MCL) for every regulated contaminant. When public water systems are found to contain contaminants in amounts exceeding the MCL, they are in violation and must take action to restore the quality of their water. For more information about EPA regulated drinking water contaminants visit https://water.epa.gov/drink/contaminants/#List\\xa0', 'View More...', 'MyRTK', 'myRight-to-Know(myRTK) is an EPA website, available at ', 'https://www2.epa.gov/toxics-release-inventory-tri-program/my-right-know-application', 'https://iaspub.epa.gov/enviro/efservice/HEALTH_EFFECT_DESCRIPTIONS/', 'Envirofacts Services Page', 'Return the myRTK records in an EXCEL spreadsheet', 'https://iaspub.epa.gov/enviro/efservice/HEALTH_EFFECT_DESCRIPTIONS/excel/', 'Return the the myRTK information for CAS Number equal to N150', 'https://iaspub.epa.gov/enviro/efservice/HEALTH_EFFECT_DESCRIPTIONS/cas_number/=/N150/', 'Return the myRTK information for chemical equal to \"STYRENE\"', 'https://iaspub.epa.gov/enviro/efservice/HEALTH_EFFECT_DESCRIPTIONS/chemical/=/STYRENE/', 'Integrated Compliance Information System (ICIS)', 'Concentrated Animal Feeding Operations (CAFOs) are agricultural operations where animals are kept and raised in confined situations. Manure and wastewater from CAFOs have the potential to contribute pollutants such as nitrogen and phosphorus, organic matter, sediment, pathogens, heavy metals, hormones, antibiotics, and ammonia to the environment. Animal waste can enter water bodies from spills or breaks of waste storage structures, due to accidents or excessive rain, and non-agricultural application of manure to crop land. The NPDES program regulates the discharge of pollutants from CAFOs to waters of the United States.', 'PCS-ICIS Model', 'https://iaspub.epa.gov/enviro/efservice/V_ICIS_FACILITY_CAFO/', 'Envirofacts Services Page', 'ICIS Other Data metadata page', 'Return the first 10,000\\xa0CAFO records within an EXCEL spreadsheet', 'https://iaspub.epa.gov/enviro/efservice/V_ICIS_FACILITY_CAFO/excel/', 'Return the first 25 CAFO records within an XML document for the state of Arkansas', 'https://iaspub.epa.gov/enviro/efservice/V_ICIS_FACILITY_CAFO/state_code/AR/rows/0:24', 'Return the second 50 CAFO records within a JSON document for the ZIP Code 72655', 'https://iaspub.epa.gov/enviro/efservice/V_ICIS_FACILITY_CAFO/zip/72655/rows/50:99/JSON', 'Enforcement & Compliance History Online (ECHO)', 'About the Program', 'Get the Data', \"To access the data real-time, that's updated monthly, within the Envirofact's database, you can use the \", 'Envirofacts RESTful API', 'https://iaspub.epa.gov/enviro/efservice/t_compliance_echo/rows/0:4/CSV', 'https://iaspub.epa.gov/enviro/efservice/t_compliance_echo/rows/0:4/JSON', 'https://iaspub.epa.gov/enviro/efservice/t_compliance_echo/rows/0:4/EXCEL', 'https://iaspub.epa.gov/enviro/efservice/t_compliance_echo/rows/0:4/XML', 'Envirofacts RESTful API', 'https://iaspub.epa.gov/enviro/efservice/t_compliance_echo/zip/60085/EXCEL', 'https://iaspub.epa.gov/enviro/efservice/t_compliance_echo/city/WASHINGTON/state/DC', 'https://iaspub.epa.gov/enviro/efservice/t_compliance_echo/city/WASHINGTON/state/DC/CURR_COMP_STATUS/serious violation(s)/JSON', 'Envirofacts RESTful API', 'Latest ECHO Explorer Version 2.0 Download', 'In addition to the above Envirofacts RESTful API access to the data, the complete ECHO dataset can be downloaded. ', 'Latest ECHO Explorer Version 2.0 Download', 'Safe Drinking Water Information System (SDWIS)', 'National Primary Drinking Water Regulations (NPDWRs), or primary standards, are legally enforceable standards that apply to public water systems. Primary standards protect public health by limiting the levels of certain contaminants in drinking water. EPA sets a Maximum Contamination Limit (MCL) for every regulated contaminant. When public water systems are found to contain contaminants in amounts exceeding the MCL, they are in violation and must take action to restore the quality of their water. For more information about EPA regulated drinking water contaminants visit ', 'https://water.epa.gov/drink/contaminants/#List', 'SDWIS Model', 'Envirofacts Services Page', 'SDWIS Other Data metadata page', 'SDW_COUNTY_SERVED', 'SDW_VIOL_ENFORCEMENT', 'SDW_CONTAM_VIOL_ZIP', 'SDW_CONTAM_VIOL_CITY', 'I would like to know, within a specific county, what are the different Public Water Systems (PWSs), the population served by each one, the regulating agency, and the contact name and phone number.', 'https://iaspub.epa.gov/enviro/efservice/SDW_COUNTY_SERVED/COUNTYSERVED/ACCOMACK', 'I would like to know, within a specific county and state, the violations and enforcement actions for the different PWSs, as well as the definitions, health effects, and sources of contamination for any contaminants.', 'https://iaspub.epa.gov/enviro/efservice/SDW_VIOL_ENFORCEMENT/COUNTYSERVED/MCLEAN/STATE/IL/Excel', 'I would like to know, for a specific PWS, the violations and enforcement actions, as well as the definitions, health effects, and sources of contamination for any contaminants.', 'https://iaspub.epa.gov/enviro/efservice/SDW_VIOL_ENFORCEMENT/PWSID/IL3141937/JSON', 'I would like to know, for a specific zip code, the violations and enforcement actions, as well as the definitions, health effects, and sources of contamination for any contaminants.', 'https://iaspub.epa.gov/enviro/efservice/SDW_CONTAM_VIOL_ZIP/geolocation_zip/=/20460/rows/1:10/excel', 'I would like to know, for a specific city and state, the violations and enforcement actions, as well as the definitions, health effects, and sources of contamination for any contaminants.', 'https://iaspub.epa.gov/enviro/efservice/SDW_CONTAM_VIOL_CITY/geolocation_city/CROFTON/STATE/MD/rows/1:10/excel', 'Safer Choice', 'About the Program', 'Get the Data', 'Learn about the API', 'Envirofacts RESTful API', 'https://iaspub.epa.gov/enviro/efservice/t_saferchoice/CSV', 'https://iaspub.epa.gov/enviro/efservice/t_saferchoice/JSON', 'https://iaspub.epa.gov/enviro/efservice/t_saferchoice/EXCEL', 'https://iaspub.epa.gov/enviro/efservice/t_saferchoice/XML', 'https://iaspub.epa.gov/enviro/efservice/t_saferchoice_esp/CSV', 'https://iaspub.epa.gov/enviro/efservice/t_saferchoice_esp/JSON', 'https://iaspub.epa.gov/enviro/efservice/t_saferchoice_esp/EXCEL', 'https://iaspub.epa.gov/enviro/efservice/t_saferchoice_esp/XML', 'Safer Choice Model page', 'Envirofacts RESTful API documentation', 'View the Model', 'data model', 'Envirofacts RESTful API', 'T_SAFERCHOICE', 'PRODUCT NAME', 'COMPANY NAME', 'SECTOR', 'CATEGORY', 'CITY', 'STATE', 'PARTNER SINCE', 'FRAGRANCE-FREE', 'https://www.epa.gov/saferchoice/safer-choice-criteria-fragrance-free-products', 'OUTDOOR USE', 'https://www.epa.gov/saferchoice/standard#tab-3', 'Safer Choice Model', 'Sample Data ', 'Envirofacts RESTful API', 'CATEGORY', 'SECTOR', 'COMPANY NAME', 'CITY', 'STATE', 'PARTNER SINCE', 'PRODUCT NAME', 'FRAGRANCE-FREE', 'OUTDOOR USE', 'Industrial/Institutional Product', 'All-Purpose Cleaners', 'Barnes Distribution', 'Cleveland', 'OH', 'Apr 2009', 'Industrial/Institutional Product', 'All-Purpose Cleaners', 'BCD Supply', 'Crest Hill', 'IL', 'Jun 2011', 'Industrial/Institutional Product', 'All-Purpose Cleaners', 'Beaver Research Company', 'Portage', 'MI', 'Jan 2009', 'Additional Resources', 'Safer Choice Home Page', 'Learn About the Safer Choice Label', 'Safer Choice on Facebook', 'System Data Searches', 'Multisystem', 'BR', 'Brownfields/Cleanups', 'Cleanups', 'ECHO/IDEA', 'FRS', 'EZ Search', 'Organization Search', 'Greenhouse Gas', 'Customized Search', 'ICIS', 'ICIS-AIR', 'ICR', 'IGMS', 'Locational Information', 'Locational Search', 'NEI', 'PCS', 'Customized Search', 'RADInfo', 'RadNet', 'Customized Search', 'RCRAInfo', 'SDWIS', 'SEMS', 'SRS', 'TRI\\n\\t\\t', 'TRI Explorer', 'TRI Search', 'Form R Search', 'Form R & A Download', 'EZ Search', 'Customized Search', 'Pollution Prevention', 'TSCA', 'UV Index', 'Other Sites of Interest', 'Geospatial Download', 'EnviroMapper', 'MyEnvironment', 'Contact Us', 'googleoff: all', 'Discover.', 'Accessibility', 'EPA Administrator', 'Budget & Performance', 'Contracting', 'Grants', 'January 19, 2017 Web Snapshot', 'No FEAR Act Data', 'Privacy', 'Privacy and Security Notice', 'Connect.', 'Data.gov', 'Inspector General', 'Jobs', 'Newsroom', 'Open Government', 'Regulations.gov', 'Subscribe', 'USA.gov', 'White House', 'Ask.', 'Contact Us', 'Hotlines', 'FOIA Requests', 'Frequent Questions', 'Follow.', 'Facebook', 'Twitter', 'YouTube', 'Flickr', 'Instagram', 'Last updated on October 25, 2018']\n"
     ]
    }
   ],
   "source": [
    "p = soup.find_all(string=re.compile('^(\\w+)'))\n",
    "word =print(p)"
   ]
  },
  {
   "cell_type": "code",
   "execution_count": 40,
   "metadata": {
    "collapsed": true
   },
   "outputs": [
    {
     "name": "stdout",
     "output_type": "stream",
     "text": [
      "Writing 'soup.find_all(string=re.compile('^(\\w+)'))' (ResultSet) to file 'semifinal.txt'.\n"
     ]
    }
   ],
   "source": [
    "#saving the semiclean as .txt file\n",
    "%store soup.find_all(string=re.compile('^(\\w+)')) >> semifinal.txt"
   ]
  },
  {
   "cell_type": "code",
   "execution_count": 41,
   "metadata": {
    "collapsed": true
   },
   "outputs": [],
   "source": [
    "w =open('semifinal.txt','r')"
   ]
  },
  {
   "cell_type": "code",
   "execution_count": 42,
   "metadata": {
    "collapsed": true
   },
   "outputs": [],
   "source": [
    "wlist=w.readlines()"
   ]
  },
  {
   "cell_type": "code",
   "execution_count": 43,
   "metadata": {
    "collapsed": true
   },
   "outputs": [],
   "source": [
    "# checking for the number/size of words: len(wlist) --> 710 only.\n",
    "# this is because we have wordlists and passages, so lets split all,\n",
    "# strip off punctuations etc,\n",
    "# convert all to lower cases,\n",
    "# split all lines to single words,\n",
    "splitedwlist=[w.strip().lower().split() for w in wlist]"
   ]
  },
  {
   "cell_type": "code",
   "execution_count": 44,
   "metadata": {
    "collapsed": true
   },
   "outputs": [],
   "source": [
    "# looking as \"splitedwlist\" gives many lists is a list (sublists list of \n",
    "#strings in a list), so lets join the  lists into one list using \n",
    "# simple list comprehension:\n",
    "joined_wlist = [a for b in splitedwlist for a in b]"
   ]
  },
  {
   "cell_type": "code",
   "execution_count": 45,
   "metadata": {
    "collapsed": true
   },
   "outputs": [
    {
     "data": {
      "text/plain": [
       "[[\"['html',\"],\n",
       " [\"'googleon:\", \"all',\"],\n",
       " [\"'googleoff:\", \"snippet',\"],\n",
       " [\"'other\", 'service-enabled', 'data', '|', 'envirofacts', '|', 'us', \"epa',\"],\n",
       " [\"'googleoff:\", \"all',\"],\n",
       " [\"'jump\", 'to', 'main', \"content',\"],\n",
       " [\"'an\",\n",
       "  'official',\n",
       "  'website',\n",
       "  'of',\n",
       "  'the',\n",
       "  'united',\n",
       "  'states',\n",
       "  \"government.',\"],\n",
       " ['\"we\\'ve', 'made', 'some', 'changes', 'to', '\",'],\n",
       " [\"'epa.gov',\"],\n",
       " [\"'epa\", 'web', \"archive',\"],\n",
       " [\"'january\", '19,', '2017', 'web', \"snapshot',\"],\n",
       " [\"'us\", \"epa',\"],\n",
       " [\"'united\", 'states', 'environmental', 'protection', \"agency',\"],\n",
       " [\"'search',\"],\n",
       " [\"'search',\"],\n",
       " [\"'main\", \"menu',\"],\n",
       " [\"'environmental\", \"topics',\"],\n",
       " [\"'air',\"],\n",
       " [\"'bed\", \"bugs',\"],\n",
       " [\"'chemicals\", 'and', \"toxics',\"]]"
      ]
     },
     "execution_count": 45,
     "metadata": {},
     "output_type": "execute_result"
    }
   ],
   "source": [
    "# e.g \n",
    "splitedwlist[:20]"
   ]
  },
  {
   "cell_type": "code",
   "execution_count": 46,
   "metadata": {
    "collapsed": true
   },
   "outputs": [
    {
     "data": {
      "text/plain": [
       "1065"
      ]
     },
     "execution_count": 46,
     "metadata": {},
     "output_type": "execute_result"
    }
   ],
   "source": [
    "len(wlist)"
   ]
  },
  {
   "cell_type": "code",
   "execution_count": 47,
   "metadata": {
    "collapsed": true
   },
   "outputs": [
    {
     "data": {
      "text/plain": [
       "4545"
      ]
     },
     "execution_count": 47,
     "metadata": {},
     "output_type": "execute_result"
    }
   ],
   "source": [
    "len(joined_wlist)"
   ]
  },
  {
   "cell_type": "code",
   "execution_count": 48,
   "metadata": {
    "collapsed": true
   },
   "outputs": [],
   "source": [
    "joined_wlist.sort()"
   ]
  },
  {
   "cell_type": "code",
   "execution_count": 49,
   "metadata": {
    "collapsed": true
   },
   "outputs": [
    {
     "data": {
      "text/plain": [
       "['\"',\n",
       " '\"',\n",
       " '\"',\n",
       " '\",',\n",
       " '\",',\n",
       " '\",',\n",
       " '\",',\n",
       " '\",',\n",
       " '\",',\n",
       " '\"envirofact\\'s',\n",
       " '\"envirofact\\'s',\n",
       " '\"envirofact\\'s',\n",
       " '\"styrene\"\\',',\n",
       " '\"styrene\"\\',',\n",
       " '\"styrene\"\\',',\n",
       " '\"to',\n",
       " '\"to',\n",
       " '\"to',\n",
       " '\"we\\'ve',\n",
       " '\"we\\'ve',\n",
       " '\"we\\'ve',\n",
       " '&',\n",
       " '&',\n",
       " '&',\n",
       " '&',\n",
       " '&',\n",
       " '&',\n",
       " '&',\n",
       " '&',\n",
       " '&',\n",
       " '&',\n",
       " '&',\n",
       " '&',\n",
       " \"'\",\n",
       " \"'\",\n",
       " \"'\",\n",
       " \"'\",\n",
       " \"'\",\n",
       " \"'\",\n",
       " \"'\",\n",
       " \"'\",\n",
       " \"'\",\n",
       " \"'\",\n",
       " \"'\",\n",
       " \"'\",\n",
       " \"'\",\n",
       " \"'\",\n",
       " \"'\",\n",
       " \"'\",\n",
       " \"'\",\n",
       " \"'\",\n",
       " \"'\",\n",
       " \"'\",\n",
       " \"'\",\n",
       " \"'\",\n",
       " \"'\",\n",
       " \"'\",\n",
       " \"'\",\n",
       " \"'\",\n",
       " \"'\",\n",
       " \"'\",\n",
       " \"'\",\n",
       " \"'\",\n",
       " \"'\",\n",
       " \"'\",\n",
       " \"'\",\n",
       " \"'\",\n",
       " \"'\",\n",
       " \"'\",\n",
       " \"'\",\n",
       " \"'\",\n",
       " \"'\",\n",
       " \"'\",\n",
       " \"'\",\n",
       " \"'\",\n",
       " \"'\",\n",
       " \"'\",\n",
       " \"'\",\n",
       " \"'\",\n",
       " \"'\",\n",
       " \"'\",\n",
       " \"'\",\n",
       " \"'\",\n",
       " \"'\",\n",
       " \"'\",\n",
       " \"'\",\n",
       " \"'\",\n",
       " \"'\",\n",
       " \"'\",\n",
       " \"'\",\n",
       " \"'\",\n",
       " \"'\",\n",
       " \"'\",\n",
       " \"'\",\n",
       " \"'\",\n",
       " \"'\",\n",
       " \"'\",\n",
       " \"'\",\n",
       " \"'\",\n",
       " \"'\"]"
      ]
     },
     "execution_count": 49,
     "metadata": {},
     "output_type": "execute_result"
    }
   ],
   "source": [
    "joined_wlist[:100]"
   ]
  },
  {
   "cell_type": "code",
   "execution_count": 50,
   "metadata": {
    "collapsed": true
   },
   "outputs": [],
   "source": [
    "# here we strip off each symbol/character individually (afterall not so many symbols) given that split() method takes a maximum of 1 argument.\n",
    "cleanjoined_list=[x.strip('&').strip('\"\"').strip(',').strip(\"''\").strip(\"'\").strip('\"').strip(\"'s\").lower() for x in joined_wlist]"
   ]
  },
  {
   "cell_type": "code",
   "execution_count": 51,
   "metadata": {
    "collapsed": true
   },
   "outputs": [
    {
     "data": {
      "text/plain": [
       "4545"
      ]
     },
     "execution_count": 51,
     "metadata": {},
     "output_type": "execute_result"
    }
   ],
   "source": [
    "len(cleanjoined_list)"
   ]
  },
  {
   "cell_type": "code",
   "execution_count": 52,
   "metadata": {
    "collapsed": true
   },
   "outputs": [
    {
     "data": {
      "text/plain": [
       "['',\n",
       " '',\n",
       " '',\n",
       " '',\n",
       " '',\n",
       " '',\n",
       " '',\n",
       " '',\n",
       " '',\n",
       " 'envirofact',\n",
       " 'envirofact',\n",
       " 'envirofact',\n",
       " 'tyrene',\n",
       " 'tyrene',\n",
       " 'tyrene',\n",
       " 'to',\n",
       " 'to',\n",
       " 'to',\n",
       " \"we've\",\n",
       " \"we've\",\n",
       " \"we've\",\n",
       " '',\n",
       " '',\n",
       " '',\n",
       " '',\n",
       " '',\n",
       " '',\n",
       " '',\n",
       " '',\n",
       " '',\n",
       " '',\n",
       " '',\n",
       " '',\n",
       " '',\n",
       " '',\n",
       " '',\n",
       " '',\n",
       " '',\n",
       " '',\n",
       " '',\n",
       " '',\n",
       " '',\n",
       " '',\n",
       " '',\n",
       " '',\n",
       " '',\n",
       " '',\n",
       " '',\n",
       " '',\n",
       " '',\n",
       " '',\n",
       " '',\n",
       " '',\n",
       " '',\n",
       " '',\n",
       " '',\n",
       " '',\n",
       " '',\n",
       " '',\n",
       " '',\n",
       " '',\n",
       " '',\n",
       " '',\n",
       " '',\n",
       " '',\n",
       " '',\n",
       " '',\n",
       " '',\n",
       " '',\n",
       " '',\n",
       " '',\n",
       " '',\n",
       " '',\n",
       " '',\n",
       " '',\n",
       " '',\n",
       " '',\n",
       " '',\n",
       " '',\n",
       " '',\n",
       " '',\n",
       " '',\n",
       " '',\n",
       " '',\n",
       " '',\n",
       " '',\n",
       " '',\n",
       " '',\n",
       " '',\n",
       " '',\n",
       " '',\n",
       " '',\n",
       " '',\n",
       " '',\n",
       " '',\n",
       " '',\n",
       " '',\n",
       " '',\n",
       " '',\n",
       " '']"
      ]
     },
     "execution_count": 52,
     "metadata": {},
     "output_type": "execute_result"
    }
   ],
   "source": [
    "cleanjoined_list[:100]"
   ]
  },
  {
   "cell_type": "code",
   "execution_count": 53,
   "metadata": {
    "collapsed": true
   },
   "outputs": [],
   "source": [
    "# symbols/words are repeatitive, so lets make them unique by changing from LIST COMPREHENSIONS to SET\n",
    "# we convert from LIST COMPREHENSION to SET to eliminate duplicates, and then back to LIST.\n",
    "\n",
    "uniqueclean = list(set(cleanjoined_list))"
   ]
  },
  {
   "cell_type": "code",
   "execution_count": 54,
   "metadata": {
    "collapsed": true
   },
   "outputs": [
    {
     "data": {
      "text/plain": [
       "['',\n",
       " 'crest',\n",
       " 'ez',\n",
       " 'contamination',\n",
       " 'widget',\n",
       " '(sdwa).',\n",
       " 'through',\n",
       " 'research',\n",
       " 'mobile',\n",
       " 'designed',\n",
       " 'land',\n",
       " 'and',\n",
       " 'effect',\n",
       " 'icr',\n",
       " 'cleanup',\n",
       " 'the',\n",
       " 'reason',\n",
       " 'time.',\n",
       " 'inspection',\n",
       " 'review',\n",
       " 'ga',\n",
       " 'company',\n",
       " 'contain',\n",
       " 'googleon:',\n",
       " 'in',\n",
       " 'directory',\n",
       " 'excel',\n",
       " 'heavy',\n",
       " 'menu',\n",
       " 'rain',\n",
       " 'hormone',\n",
       " 'limitation',\n",
       " 'their',\n",
       " 'https://iaspub.epa.gov/enviro/efservice/t_compliance_echo/zip/60085/excel',\n",
       " 'fr',\n",
       " 'following',\n",
       " 'you',\n",
       " 'october',\n",
       " 'which',\n",
       " 'allow',\n",
       " 'tri',\n",
       " 'that',\n",
       " 'drinking',\n",
       " 'using',\n",
       " 'integrated',\n",
       " 'nationally',\n",
       " 'dw_viol_enforcement',\n",
       " 'maximum',\n",
       " 'fragrance-free',\n",
       " 'napshot']"
      ]
     },
     "execution_count": 54,
     "metadata": {},
     "output_type": "execute_result"
    }
   ],
   "source": [
    "uniqueclean[:50]"
   ]
  },
  {
   "cell_type": "code",
   "execution_count": 55,
   "metadata": {
    "collapsed": true
   },
   "outputs": [],
   "source": [
    "# ... parsing the above http links to follow later ..."
   ]
  },
  {
   "cell_type": "code",
   "execution_count": null,
   "metadata": {
    "collapsed": true
   },
   "outputs": [],
   "source": []
  }
 ],
 "metadata": {
  "kernelspec": {
   "display_name": "Python 3",
   "language": "python",
   "name": "python3"
  },
  "language_info": {
   "codemirror_mode": {
    "name": "ipython",
    "version": 3
   },
   "file_extension": ".py",
   "mimetype": "text/x-python",
   "name": "python",
   "nbconvert_exporter": "python",
   "pygments_lexer": "ipython3",
   "version": "3.7.0"
  }
 },
 "nbformat": 4,
 "nbformat_minor": 2
}
